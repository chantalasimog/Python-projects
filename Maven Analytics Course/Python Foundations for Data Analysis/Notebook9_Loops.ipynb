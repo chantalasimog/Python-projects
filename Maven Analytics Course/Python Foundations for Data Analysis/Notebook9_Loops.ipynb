{
 "cells": [
  {
   "cell_type": "markdown",
   "id": "ed225eac",
   "metadata": {},
   "source": [
    "# LOOPS\n",
    "\n",
    "In this section we’ll introduce the concept of loops, review different loop types and their components, and cover control statements for refining their logic and handling errors\n",
    "\n",
    "*A **loop** is a block of code that will repeat until a given condition is met*. \n",
    "\n",
    "There are two types of loops:\n",
    "\n",
    "FOR LOOPS\n",
    "* Run a specified number of times\n",
    "* “For this many times”\n",
    "* This often corresponds with the length of a list, tuple, or other iterable data type\n",
    "* Should be used when you know how many times the code should run\n",
    "\n",
    "WHILE LOOPS\n",
    "* Run until a logical condition is met\n",
    "* “While this is TRUE”\n",
    "* You usually don’t know how many times this loop will run, which can lead to infinite loop scenarios\n",
    "* Should be used when you don’t know how many times the code should run"
   ]
  },
  {
   "cell_type": "code",
   "execution_count": 1,
   "id": "5536bb01",
   "metadata": {},
   "outputs": [
    {
     "data": {
      "text/plain": [
       "[5.27, 7.92, 17.59, 21.99, 87.99]"
      ]
     },
     "execution_count": 1,
     "metadata": {},
     "output_type": "execute_result"
    }
   ],
   "source": [
    "exchange_rate = 0.88\n",
    "usd_list = [5.99, 9.00, 19.99, 24.99, 99.99]\n",
    "\n",
    "euro_list = [round(usd_list[0] * exchange_rate, 2),\n",
    "             round(usd_list[1] * exchange_rate, 2),\n",
    "             round(usd_list[2] * exchange_rate, 2),\n",
    "             round(usd_list[3] * exchange_rate, 2),\n",
    "             round(usd_list[4] * exchange_rate, 2),]\n",
    "euro_list"
   ]
  },
  {
   "cell_type": "code",
   "execution_count": 2,
   "id": "51cbc9b4",
   "metadata": {},
   "outputs": [
    {
     "name": "stdout",
     "output_type": "stream",
     "text": [
      "[5.27, 7.92, 17.59, 21.99, 87.99]\n"
     ]
    }
   ],
   "source": [
    "exchange_rate = 0.88\n",
    "usd_list = [5.99, 9.00, 19.99, 24.99, 99.99]\n",
    "euro_list = []\n",
    "\n",
    "for price in usd_list:\n",
    "    euro_list.append(round(price * exchange_rate, 2))\n",
    "    \n",
    "print(euro_list)"
   ]
  },
  {
   "cell_type": "markdown",
   "id": "c285d68d",
   "metadata": {},
   "source": [
    "# FOR LOOPS \n",
    "\n",
    "A for loop will run a specified number of times. \n",
    "\n",
    "Syntax =  `for item in iterable:\n",
    "            do this`\n",
    "            \n",
    "            \n",
    "* for - Indicates a For Loop\n",
    "* item - A variable name for each item in the iterable Examples: Price, Product, or Customer\n",
    "* iterable - Iterable object to loop through. Example: List, Tuple, String, Dictionary or Set"
   ]
  },
  {
   "cell_type": "code",
   "execution_count": 3,
   "id": "72d200b4",
   "metadata": {
    "scrolled": true
   },
   "outputs": [
    {
     "name": "stdout",
     "output_type": "stream",
     "text": [
      "M\n",
      "a\n",
      "v\n",
      "e\n",
      "n\n"
     ]
    }
   ],
   "source": [
    "# The code will run and print each item in the iterable\n",
    "iterable = 'Maven'\n",
    "for item in iterable:\n",
    "    print(item)"
   ]
  },
  {
   "cell_type": "code",
   "execution_count": 4,
   "id": "0a2100a7",
   "metadata": {
    "scrolled": false
   },
   "outputs": [
    {
     "name": "stdout",
     "output_type": "stream",
     "text": [
      "M\n",
      "a\n",
      "v\n",
      "e\n",
      "n\n"
     ]
    }
   ],
   "source": [
    "# Since ‘Maven’ is a string, we’ll iterate bthrough each letter\n",
    "iterable = 'Maven'\n",
    "for leter in iterable:\n",
    "    print(leter)"
   ]
  },
  {
   "cell_type": "code",
   "execution_count": 5,
   "id": "fb9a55d1",
   "metadata": {},
   "outputs": [
    {
     "name": "stdout",
     "output_type": "stream",
     "text": [
      "[5.27, 7.92, 17.59, 21.99, 87.99]\n",
      "[5.27, 7.92, 17.59, 21.99, 87.99, 5.27, 7.92, 17.59, 21.99, 87.99]\n"
     ]
    }
   ],
   "source": [
    "# Looping over items will run through the items of an iterable\n",
    "exchange_rate = 0.88\n",
    "usd_list = [5.99, 9.00, 19.99, 24.99, 99.99]\n",
    "euro_list = []\n",
    "\n",
    "# Example 1\n",
    "for price in usd_list:\n",
    "    euro_list.append(round(price * exchange_rate, 2)) \n",
    "print(euro_list)\n",
    "\n",
    "\n",
    "# Example 2\n",
    "for i in range(len(usd_list)):\n",
    "    euro_list.append(round(usd_list[i] * exchange_rate, 2))\n",
    "print(euro_list)   "
   ]
  },
  {
   "cell_type": "code",
   "execution_count": 6,
   "id": "29487c11",
   "metadata": {
    "scrolled": true
   },
   "outputs": [
    {
     "name": "stdout",
     "output_type": "stream",
     "text": [
      "The snowboard costs 5.27 euros.\n",
      "The boots costs 7.92 euros.\n",
      "The helmet costs 17.59 euros.\n",
      "The goggles costs 21.99 euros.\n",
      "The bindings costs 87.99 euros.\n"
     ]
    }
   ],
   "source": [
    "# Looping over indices can help with looping over multiple iterables\n",
    "euro_list = [5.27, 7.92, 17.59, 21.99, 87.99]\n",
    "item_list = ['Snowboard', 'Boots', 'Helmet', 'Goggles', 'Bindings']\n",
    "\n",
    "for i in range(len(euro_list)):\n",
    "    print(f\"The {item_list[i].lower()} costs {euro_list[i]} euros.\")"
   ]
  },
  {
   "cell_type": "code",
   "execution_count": 7,
   "id": "a673d21f",
   "metadata": {
    "scrolled": true
   },
   "outputs": [
    {
     "name": "stdout",
     "output_type": "stream",
     "text": [
      "Snowboard 5.27\n",
      "Boots 7.92\n",
      "Helmet 17.59\n",
      "Goggles 21.99\n",
      "Bindings 87.99\n"
     ]
    }
   ],
   "source": [
    "# The enumerate function will return both the index and item of each item in an\n",
    "for index, element in enumerate(euro_list):\n",
    "    print(item_list[index], element)"
   ]
  },
  {
   "cell_type": "markdown",
   "id": "b1e74d5d",
   "metadata": {},
   "source": [
    "### ASSIGNMENT: FOR LOOPS\n",
    "Good morning,\n",
    "\n",
    "Our billing system failed to apply sales tax to our transactions! Can you add a sales tax of 8% to each of the subtotals?\n",
    "Once you’ve calculated tax, calculate the total by adding the tax to the subtotal, and create lists to store both the tax amounts and the totals.\n",
    "\n",
    "Thanks in advance!"
   ]
  },
  {
   "cell_type": "code",
   "execution_count": 8,
   "id": "973e67ce",
   "metadata": {},
   "outputs": [
    {
     "name": "stdout",
     "output_type": "stream",
     "text": [
      "[1.28, 72.0, 64.0, 9.44, 0.48, 48.0, 2.0, 144.0, 8.0]\n",
      "[17.26, 971.97, 863.97, 127.4, 6.47, 647.99, 26.99, 1943.94, 107.99]\n"
     ]
    }
   ],
   "source": [
    "subtotals = [15.98, 899.97, 799.97, 117.96, 5.99, 599.99, 24.99, 1799.94, 99.99]\n",
    "\n",
    "taxes = []\n",
    "totals = []\n",
    "\n",
    "for subtotal in subtotals:\n",
    "    tax = round(subtotal * 0.08, 2)\n",
    "    total = round(subtotal + tax, 2)\n",
    "    taxes.append(tax)\n",
    "    totals.append(total)\n",
    "    \n",
    "    \n",
    "print(taxes)\n",
    "print(totals)"
   ]
  },
  {
   "cell_type": "markdown",
   "id": "29cd656b",
   "metadata": {},
   "source": [
    "### ASSIGNMENT: ENUMERATE\n",
    "\n",
    "Hi again!\n",
    "\n",
    "I forgot to mention we need to apply different tax rates to different locations. The list attached has the location of each transaction. Our Sun Valley store is taxed at 8%, Stowe at 6%, and Mammoth at 7.75%.\n",
    "Can you adjust your tax calculator code to apply the correct tax to each location?\n",
    "\n",
    "Thanks!"
   ]
  },
  {
   "cell_type": "code",
   "execution_count": 9,
   "id": "ca4f7344",
   "metadata": {},
   "outputs": [],
   "source": [
    "subtotals = [\n",
    "    15.98, 899.97, 799.97, 117.96, 5.99, \n",
    "    599.99, 24.99, 1799.94, 99.99]\n",
    "\n",
    "location = [\n",
    "    'Sun Valley', 'Stowe', 'Mammoth', 'Stowe', 'Sun Valley', \n",
    "    'Mammoth','Mammoth', 'Mammoth', 'Sun Valley']"
   ]
  },
  {
   "cell_type": "code",
   "execution_count": 10,
   "id": "d02b48d3",
   "metadata": {},
   "outputs": [
    {
     "name": "stdout",
     "output_type": "stream",
     "text": [
      "[1.28, 54.0, 62.0, 7.08, 0.48, 46.5, 1.94, 139.5, 8.0]\n",
      "[17.26, 953.97, 861.97, 125.04, 6.47, 646.49, 26.93, 1939.44, 107.99]\n"
     ]
    }
   ],
   "source": [
    "taxes = []\n",
    "totals = []\n",
    "\n",
    "\n",
    "for index, subtotal in enumerate(subtotals):\n",
    "    if location[index] == 'Sun Valley':\n",
    "        tax = round(subtotal * .08, 2)\n",
    "    elif location[index] == 'Stowe':\n",
    "        tax = round(subtotal * .06, 2)\n",
    "    else:\n",
    "        tax = round(subtotal * .0775, 2)\n",
    "    total = round(subtotal + tax, 2)\n",
    "    taxes.append(tax)\n",
    "    totals.append(total)\n",
    "        \n",
    "print(taxes)\n",
    "print(totals)\n",
    "\n",
    "# 1ra linea - funcion index -> creación nueva variable subtotal para enumerar subtotals\n",
    "# 2do linea - condicional ->  indexando la variable location definimos los taxes correspondiente redondeado \n",
    "# 7ma linea - total de tax -> ya teniendo los tax asignados lo sumamos con la nueva variable subtotal \n",
    "# 8va linea - append results -> pegamos los resultados en las listas vacias \n",
    "# 10a linea - imprimir resultados "
   ]
  },
  {
   "cell_type": "markdown",
   "id": "fcc9ab2c",
   "metadata": {},
   "source": [
    "# WHILE LOOPS\n",
    "\n",
    "While loops run until a given logical expression becomes FALSE\n",
    "\n",
    "Syntax =  `while item in iterable:\n",
    "            do this`\n",
    "            \n",
    "While loops often include counters that grow with each iteration"
   ]
  },
  {
   "cell_type": "code",
   "execution_count": 1,
   "id": "e7fd9809",
   "metadata": {},
   "outputs": [
    {
     "name": "stdout",
     "output_type": "stream",
     "text": [
      "1\n",
      "2\n",
      "3\n",
      "4\n",
      "5\n",
      "6\n",
      "7\n",
      "8\n",
      "9\n",
      "10\n"
     ]
    }
   ],
   "source": [
    "counter = 0 \n",
    "while counter < 10:\n",
    "    counter += 1     # counter = counter + 1\n",
    "    print(counter)"
   ]
  },
  {
   "cell_type": "code",
   "execution_count": 4,
   "id": "c22ab84f",
   "metadata": {},
   "outputs": [
    {
     "name": "stdout",
     "output_type": "stream",
     "text": [
      "At the end of the year 1: My balance is $840000.0\n",
      "At the end of the year 2: My balance is $882000.0\n",
      "At the end of the year 3: My balance is $926100.0\n",
      "At the end of the year 4: My balance is $972405.0\n",
      "At the end of the year 5: My balance is $1021025.25\n"
     ]
    }
   ],
   "source": [
    "stock_portfolio = 800000\n",
    "year_counter = 0 \n",
    "\n",
    "while stock_portfolio < 1000000:\n",
    "    investment_income = stock_portfolio * .05\n",
    "    stock_portfolio += investment_income\n",
    "    year_counter += 1\n",
    "    print(f'At the end of the year {year_counter}: '\n",
    "      + f'My balance is ${round(stock_portfolio, 2)}')"
   ]
  },
  {
   "cell_type": "code",
   "execution_count": 6,
   "id": "4ac1e1e2",
   "metadata": {
    "scrolled": true
   },
   "outputs": [
    {
     "name": "stdout",
     "output_type": "stream",
     "text": [
      "At the end of the month 1: My balance is $4000\n",
      "At the end of the month 2: My balance is $3000\n",
      "At the end of the month 3: My balance is $2000\n",
      "At the end of the month 4: My balance is $1000\n",
      "At the end of the month 5: My balance is $0\n"
     ]
    }
   ],
   "source": [
    "bank_balance = 5000\n",
    "month_counter = 0 \n",
    "\n",
    "while bank_balance > 0: \n",
    "    spending = 1000\n",
    "    bank_balance -= spending\n",
    "    month_counter += 1\n",
    "    print(f'At the end of the month {month_counter}: '\n",
    "          f'My balance is ${round(bank_balance, 2)}')"
   ]
  },
  {
   "cell_type": "markdown",
   "id": "fc671766",
   "metadata": {},
   "source": [
    "### ASSIGNMENT: WHILE LOOPS\n",
    "\n",
    "Good morning,\n",
    "\n",
    "Our investors are considering loaning us money to purchase more skis.\n",
    "Can you advise how many months of stock we have left at the current monthly sales volume?\n",
    "I would like to view the stock level at the end of each month as well.\n",
    "\n",
    "Thanks!"
   ]
  },
  {
   "cell_type": "code",
   "execution_count": 7,
   "id": "66c05cdb",
   "metadata": {},
   "outputs": [
    {
     "name": "stdout",
     "output_type": "stream",
     "text": [
      "At the end of the month 1,  we have 602 pair of skis\n",
      "At the end of the month 2,  we have 518 pair of skis\n",
      "At the end of the month 3,  we have 434 pair of skis\n",
      "At the end of the month 4,  we have 350 pair of skis\n",
      "At the end of the month 5,  we have 266 pair of skis\n",
      "At the end of the month 6,  we have 182 pair of skis\n",
      "At the end of the month 7,  we have 98 pair of skis\n",
      "At the end of the month 8,  we have 14 pair of skis\n",
      "At the end of the month 9,  we have -70 pair of skis\n"
     ]
    }
   ],
   "source": [
    "inventory = 686\n",
    "monthly_sales = 84\n",
    "month = 0\n",
    "\n",
    "while inventory > 0:\n",
    "    inventory -= monthly_sales\n",
    "    month += 1\n",
    "    print(f'At the end of the month {month}, '\n",
    "          f' we have {round(inventory, 2)} pair of skis')"
   ]
  },
  {
   "cell_type": "markdown",
   "id": "bb58765d",
   "metadata": {},
   "source": [
    "# NESTED LOOPS\n",
    "\n",
    "Loops can be nested within another loop\n",
    "* The nested loop is referred to as an inner loop (the other is an outer loop)\n",
    "* These are often used for navigating nested lists and similar data structures"
   ]
  },
  {
   "cell_type": "code",
   "execution_count": 8,
   "id": "1c922ca1",
   "metadata": {},
   "outputs": [
    {
     "name": "stdout",
     "output_type": "stream",
     "text": [
      "Snowboard, is available in small.\n",
      "Snowboard, is available in medium.\n",
      "Snowboard, is available in large.\n",
      "Boots, is available in small.\n",
      "Boots, is available in medium.\n",
      "Boots, is available in large.\n"
     ]
    }
   ],
   "source": [
    "item_list = ['Snowboard', 'Boots']\n",
    "size_list = ['small', 'medium', 'large']\n",
    "\n",
    "for item in item_list:\n",
    "    for size in size_list:\n",
    "        print(f'{item}, is available in {size}.')"
   ]
  },
  {
   "cell_type": "markdown",
   "id": "06d96b81",
   "metadata": {},
   "source": [
    "### ASSIGNMENT: NESTED LOOPS\n",
    "\n",
    "Good morning,\n",
    "\n",
    "I’ve attached a nested list containing the subtotals for customers that have made multiple orders.\n",
    "We need to apply a 10% discount for each of their transactions and return the new totals in a list with the same structure as the original.\n",
    "\n",
    "Thanks!"
   ]
  },
  {
   "cell_type": "code",
   "execution_count": 9,
   "id": "7ac1e2c6",
   "metadata": {},
   "outputs": [
    {
     "data": {
      "text/plain": [
       "[[1799.94, 29.98, 99.99],\n",
       " [15.98, 119.99],\n",
       " [24.99, 24.99],\n",
       " [649.99, 99.99],\n",
       " [599.99, 399.97]]"
      ]
     },
     "execution_count": 9,
     "metadata": {},
     "output_type": "execute_result"
    }
   ],
   "source": [
    "multi_order_customers = [\n",
    "    [1799.94, 29.98, 99.99],\n",
    "    [15.98, 119.99],\n",
    "    [24.99, 24.99],\n",
    "    [649.99, 99.99],\n",
    "    [599.99, 399.97],]\n",
    "\n",
    "multi_order_customers"
   ]
  },
  {
   "cell_type": "code",
   "execution_count": 11,
   "id": "4c5a8363",
   "metadata": {
    "scrolled": true
   },
   "outputs": [
    {
     "data": {
      "text/plain": [
       "[[1619.95, 26.98, 89.99],\n",
       " [14.38, 107.99],\n",
       " [22.49, 22.49],\n",
       " [584.99, 89.99],\n",
       " [539.99, 359.97]]"
      ]
     },
     "execution_count": 11,
     "metadata": {},
     "output_type": "execute_result"
    }
   ],
   "source": [
    "discounted_prices = []\n",
    "\n",
    "for customers in multi_order_customers:\n",
    "    discount = []\n",
    "    for transaction in customers:\n",
    "        discount.append(round(transaction * 0.9, 2))\n",
    "    discounted_prices.append(discount)\n",
    "\n",
    "discounted_prices"
   ]
  },
  {
   "cell_type": "markdown",
   "id": "d06d9069",
   "metadata": {},
   "source": [
    "# BREAK \n",
    "\n",
    "Triggering a break statement will exit the loop that it lives in\n",
    "* This helps exit potential infinite loops when they can’t be avoided by refining our logic\n",
    "* It also helps set logical conditions to exit for loops early"
   ]
  },
  {
   "cell_type": "code",
   "execution_count": 14,
   "id": "5f24efe7",
   "metadata": {},
   "outputs": [
    {
     "name": "stdout",
     "output_type": "stream",
     "text": [
      "15.98\n",
      "915.95\n",
      "1715.92\n",
      "1833.88\n",
      "1839.87\n",
      "2439.86\n"
     ]
    }
   ],
   "source": [
    "subtotals = [15.98, 899.97, 799.97, 117.96, 5.99,\n",
    "            599.99, 24.99, 1799.94, 99.99]\n",
    "revenue = 0 \n",
    "\n",
    "for subtotal in subtotals:\n",
    "    revenue = revenue + subtotal \n",
    "    print(round(revenue, 2))\n",
    "    if revenue > 2000:\n",
    "        break "
   ]
  },
  {
   "cell_type": "code",
   "execution_count": 18,
   "id": "018e25cb",
   "metadata": {
    "scrolled": true
   },
   "outputs": [
    {
     "name": "stdout",
     "output_type": "stream",
     "text": [
      "My balance is $110 in year 1\n",
      "My balance is $121 in year 2\n",
      "My balance is $133 in year 3\n",
      "My balance is $146 in year 4\n",
      "My balance is $161 in year 5\n",
      "My balance is $177 in year 6\n",
      "My balance is $195 in year 7\n",
      "My balance is $215 in year 8\n",
      "My balance is $237 in year 9\n",
      "My balance is $261 in year 10\n",
      "Guess I need to save more.\n"
     ]
    }
   ],
   "source": [
    "stock_portfolio = 100\n",
    "year_counter = 0 \n",
    "\n",
    "while stock_portfolio < 1000000:\n",
    "    investment_income = round(stock_portfolio * 0.1)\n",
    "    stock_portfolio += investment_income\n",
    "    year_counter += 1\n",
    "    print(f'My balance is ${round(stock_portfolio, 1)} in year {year_counter}')\n",
    "    if year_counter >= 10:\n",
    "        print('Guess I need to save more.')\n",
    "        break "
   ]
  },
  {
   "cell_type": "markdown",
   "id": "0a312cfe",
   "metadata": {},
   "source": [
    "### CONTINUE \n",
    "\n",
    "Triggering a continue statement will move on to the next iteration of the loop\n",
    "* No other lines in that iteration of the loop will run\n",
    "* This is often combined with logical criteria to exclude values you don’t want to process"
   ]
  },
  {
   "cell_type": "code",
   "execution_count": 20,
   "id": "eeaf3576",
   "metadata": {},
   "outputs": [
    {
     "name": "stdout",
     "output_type": "stream",
     "text": [
      "['snowboard-basic', 'snowboard-extreme', 'snowboard-comfort']\n"
     ]
    }
   ],
   "source": [
    "item_list = ['ski-extreme', 'snowboard-basic', 'snowboard-extreme',\n",
    "            'snowboard-comfort', 'ski-comfort', 'ski-backcountry']\n",
    "snowboards = []\n",
    "\n",
    "for item in item_list:\n",
    "    if 'ski' in item:\n",
    "        continue\n",
    "    snowboards.append(item)\n",
    "    \n",
    "print(snowboards)"
   ]
  },
  {
   "cell_type": "markdown",
   "id": "85352ee3",
   "metadata": {},
   "source": [
    "### PASS \n",
    "\n",
    "A pass statement serves as a placeholder for future code\n",
    "* Nothing happens and the loop continues to the next line of code"
   ]
  },
  {
   "cell_type": "code",
   "execution_count": 21,
   "id": "99376fb3",
   "metadata": {},
   "outputs": [
    {
     "name": "stdout",
     "output_type": "stream",
     "text": [
      "['ski-extreme', 'snowboard-basic', 'snowboard-extreme', 'snowboard-comfort', 'ski-comfort', 'ski-backcountry']\n"
     ]
    }
   ],
   "source": [
    "item_list = ['ski-extreme', 'snowboard-basic', 'snowboard-extreme',\n",
    "            'snowboard-comfort', 'ski-comfort', 'ski-backcountry']\n",
    "snowboards = []\n",
    "\n",
    "for item in item_list:\n",
    "    if 'skis' in item:\n",
    "        pass\n",
    "    snowboards.append(item)\n",
    "    \n",
    "print(snowboards)"
   ]
  },
  {
   "cell_type": "markdown",
   "id": "1ba450ea",
   "metadata": {},
   "source": [
    "### TRY, EXCEPT \n",
    "\n",
    "The try & except statements resolve errors in a loop without stopping its execution\n",
    "* Try: indicates the first block of code to run (which could result in an error)\n",
    "* Except: indicates an optional block of code to run in case of an error in the try block"
   ]
  },
  {
   "cell_type": "code",
   "execution_count": 26,
   "id": "1ffc5346",
   "metadata": {
    "scrolled": true
   },
   "outputs": [
    {
     "name": "stdout",
     "output_type": "stream",
     "text": [
      "I can buy 8 of these.\n",
      "That's not a number\n",
      "I can buy 2 of these.\n",
      "I can buy 2 of these.\n",
      "This product is free, I can take as many as I like.\n",
      "That's not a number\n",
      "I can buy 0 of these.\n"
     ]
    }
   ],
   "source": [
    "price_list = [5.99, None, 19.99, 24.99, 0, '74.99', 99.99]\n",
    "\n",
    "for price in price_list:\n",
    "    try:\n",
    "        affortable_quantity = round(50//price)\n",
    "        print(f'I can buy {affortable_quantity} of these.')\n",
    "    except ZeroDivisionError: \n",
    "        print(\"This product is free, I can take as many as I like.\")\n",
    "    except:\n",
    "        print(\"That's not a number\")"
   ]
  },
  {
   "cell_type": "markdown",
   "id": "dd4a166a",
   "metadata": {},
   "source": [
    "### ASSIGNMENT: LOOP CONTROL\n",
    "\n",
    "Good morning,\n",
    "We’ve made good progress on the item affordability calculator, which really helps our customers buy with confidence. We just need these tweaks to the logic:\n",
    "* Skip processing for any ‘None’ elements\n",
    "* Make sure prices stored as strings get processed (we’ll fix the database later)\n",
    "* Change 50 to a variable ‘budget’ so we can change it based on customer input\n",
    "* Clean up general ‘except’ statement"
   ]
  },
  {
   "cell_type": "code",
   "execution_count": 27,
   "id": "040774b1",
   "metadata": {},
   "outputs": [],
   "source": [
    "price_list = [5.99, None, 19.99, 24.99, 0, '74.99', 99.99]"
   ]
  },
  {
   "cell_type": "code",
   "execution_count": 28,
   "id": "cf60ed3d",
   "metadata": {},
   "outputs": [],
   "source": [
    "# Create Budget Variable\n",
    "budget = 50"
   ]
  },
  {
   "cell_type": "code",
   "execution_count": 30,
   "id": "9f3a982f",
   "metadata": {},
   "outputs": [
    {
     "name": "stdout",
     "output_type": "stream",
     "text": [
      "I can buy 8 of these.\n",
      "I can buy 2 of these.\n",
      "I can buy 2 of these.\n",
      "This product is free, I can take as many as I like.\n",
      "string data detected\n",
      "I can buy 0 of these.\n",
      "I can buy 0 of these.\n"
     ]
    }
   ],
   "source": [
    "for price in price_list:\n",
    "    if price is None:\n",
    "        continue\n",
    "    try:\n",
    "        affortable_quantity = round(budget//price)\n",
    "        print(f'I can buy {affortable_quantity} of these.')\n",
    "    except ZeroDivisionError: \n",
    "        print(\"This product is free, I can take as many as I like.\")\n",
    "    except TypeError:\n",
    "        affordable_quantity = round(budget // float(price))\n",
    "        print(\"string data detected\")\n",
    "        print(f\"I can buy {affordable_quantity} of these.\")"
   ]
  }
 ],
 "metadata": {
  "kernelspec": {
   "display_name": "Python 3 (ipykernel)",
   "language": "python",
   "name": "python3"
  },
  "language_info": {
   "codemirror_mode": {
    "name": "ipython",
    "version": 3
   },
   "file_extension": ".py",
   "mimetype": "text/x-python",
   "name": "python",
   "nbconvert_exporter": "python",
   "pygments_lexer": "ipython3",
   "version": "3.9.12"
  }
 },
 "nbformat": 4,
 "nbformat_minor": 5
}
