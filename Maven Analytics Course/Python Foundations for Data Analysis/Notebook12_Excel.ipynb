{
 "cells": [
  {
   "cell_type": "markdown",
   "id": "3d1a7f5b",
   "metadata": {},
   "source": [
    "# MANIPULATING EXCEL SHEETS\n",
    "\n",
    "In this section we’ll import the openpyxl package and manipulate data from Excel sheets by using the Python skills learned throughout the course\n",
    "\n",
    "The openpyxl package is designed for reading and writing Excel files Without ever needing to open Excel itself, you can use openpyxl to:\n",
    "* Create, modify, or delete workbooks, worksheets, rows, or columns\n",
    "* Leverage custom Python functions or Excel formulas (yes, really!)\n",
    "* Automate Excel chart creation\n",
    "* ... or do almost anything else that can be done in Excel natively\n",
    "\n",
    "Example use cases:\n",
    "* Cleaning or manipulating Excel sheets before uploading them into a database\n",
    "* Automating database pulls (sqlalchemy library) and creating Excel sheets for end users\n",
    "* Summarizing Excel data before sending it to another user\n",
    "\n",
    "\n",
    "### THE MAVEN SKI SHOP DATA"
   ]
  },
  {
   "cell_type": "code",
   "execution_count": 1,
   "id": "bd952dd7",
   "metadata": {},
   "outputs": [],
   "source": [
    "#The load_workbook() function reads in an Excel workbook\n",
    "import openpyxl as xl\n",
    "workbook = xl.load_workbook(filename='maven_ski_shop_data.xlsx')"
   ]
  },
  {
   "cell_type": "code",
   "execution_count": 2,
   "id": "75382615",
   "metadata": {},
   "outputs": [
    {
     "data": {
      "text/plain": [
       "['Item_Info', 'Inventory_Levels', 'Orders_Info']"
      ]
     },
     "execution_count": 2,
     "metadata": {},
     "output_type": "execute_result"
    }
   ],
   "source": [
    "workbook.sheetnames #returns the worksheet names in a workbook"
   ]
  },
  {
   "cell_type": "code",
   "execution_count": 3,
   "id": "3b119da2",
   "metadata": {},
   "outputs": [
    {
     "data": {
      "text/plain": [
       "<Worksheet \"Orders_Info\">"
      ]
     },
     "execution_count": 3,
     "metadata": {},
     "output_type": "execute_result"
    }
   ],
   "source": [
    "workbook.active #returns the name of the worksheet openpyxl is pointed to"
   ]
  },
  {
   "cell_type": "code",
   "execution_count": 5,
   "id": "ee036c00",
   "metadata": {},
   "outputs": [],
   "source": [
    "# Sheets can also be referenced by name (like dictionary keys)\n",
    "item = workbook['Item_Info']\n",
    "inventory = workbook['Inventory_Levels']\n",
    "orders = workbook['Orders_Info']"
   ]
  },
  {
   "cell_type": "code",
   "execution_count": 9,
   "id": "5d76565a",
   "metadata": {},
   "outputs": [
    {
     "name": "stdout",
     "output_type": "stream",
     "text": [
      "Product_Name\n"
     ]
    },
    {
     "data": {
      "text/plain": [
       "'Gloves'"
      ]
     },
     "execution_count": 9,
     "metadata": {},
     "output_type": "execute_result"
    }
   ],
   "source": [
    "#You can navigate cells by using ‘A1’ style coordinates, or Python-esque indices\n",
    "item['B1']\n",
    "print(item['B1'].value)\n",
    "item.cell(row=4, column=2).value"
   ]
  },
  {
   "cell_type": "markdown",
   "id": "8972e370",
   "metadata": {},
   "source": [
    "### ASSIGNMENT: NAVIGATING WORKBOOKS\n",
    "Hey there, we’ve just run our annual Black Friday Sale, and there have been issues with the data. Most of our data team is skiing this weekend, so we need your help.\n",
    "\n",
    "A customer mentioned they weren’t charged sales tax and have graciously reached out to pay it.\n",
    "\n",
    "Can you calculate the sales tax (8%) and total for customer C00003? It should be in row 10.\n",
    "\n",
    "Thanks!"
   ]
  },
  {
   "cell_type": "code",
   "execution_count": 26,
   "id": "76f67774",
   "metadata": {},
   "outputs": [],
   "source": [
    "import openpyxl as xl\n",
    "wb = xl.load_workbook(filename=\"maven_ski_shop_data.xlsx\")\n",
    "orders = wb[\"Orders_Info\"]"
   ]
  },
  {
   "cell_type": "code",
   "execution_count": null,
   "id": "e02d5235",
   "metadata": {},
   "outputs": [],
   "source": [
    "from tax_calculator import tax_calculator\n",
    "\n",
    "transaction = tax_calculator(orders[\"D10\"].value, 0.08)\n",
    "\n",
    "print(\"Sales Tax: $\" + str(round(transaction[1], 2)))\n",
    "print(\"Total: $\" + str(round(transaction[2], 2)))"
   ]
  },
  {
   "cell_type": "markdown",
   "id": "51e7df96",
   "metadata": {},
   "source": [
    "## LOOPING THROUGH CELLS\n",
    "\n",
    "sheet.max_row and sheet.max_column help determine the number of rows and columns with data in a worksheet, to then use as stopping conditions for loops. \n",
    "\n",
    "* Excel columns usually contain data fields, while rows contain individual records.\n",
    "* To loop through cells in a column, you need to move row by row in that column"
   ]
  },
  {
   "cell_type": "code",
   "execution_count": 18,
   "id": "89dab855",
   "metadata": {},
   "outputs": [
    {
     "name": "stdout",
     "output_type": "stream",
     "text": [
      "B1 Product_Name\n",
      "B2 Coffee\n",
      "B3 Beanie\n",
      "B4 Gloves\n",
      "B5 Sweatshirt\n",
      "B6 Helmet\n",
      "B7 Snow Pants\n",
      "B8 Coat\n",
      "B9 Ski Poles\n",
      "B10 Ski Boots\n",
      "B11 Skis\n",
      "B12 Snowboard Boots\n",
      "B13 Bindings\n",
      "B14 Snowboard\n"
     ]
    }
   ],
   "source": [
    "for row in range(1, item.max_row + 1):\n",
    "    print(f'B{row}', item[f'B{row}'].value)"
   ]
  },
  {
   "cell_type": "markdown",
   "id": "0be45862",
   "metadata": {},
   "source": [
    "## MODIFYING CELLS \n",
    "\n",
    "You can write data to a cell by assigning a value to it using the cell’s coordinates"
   ]
  },
  {
   "cell_type": "code",
   "execution_count": 20,
   "id": "3195bb69",
   "metadata": {},
   "outputs": [
    {
     "data": {
      "text/plain": [
       "'Euro Price'"
      ]
     },
     "execution_count": 20,
     "metadata": {},
     "output_type": "execute_result"
    }
   ],
   "source": [
    "item['F1'].value\n",
    "item['F1'].value = 'Euro Price'\n",
    "item['F1'].value"
   ]
  },
  {
   "cell_type": "code",
   "execution_count": 21,
   "id": "dea9d76b",
   "metadata": {},
   "outputs": [
    {
     "name": "stdout",
     "output_type": "stream",
     "text": [
      "F1 Euro Price\n",
      "F2 5.27\n",
      "F3 8.79\n",
      "F4 17.59\n",
      "F5 21.99\n",
      "F6 87.99\n",
      "F7 70.39\n",
      "F8 105.59\n",
      "F9 87.99\n",
      "F10 175.99\n",
      "F11 527.99\n",
      "F12 114.39\n",
      "F13 131.99\n",
      "F14 439.99\n"
     ]
    }
   ],
   "source": [
    "# WRITING DATA TO A COLUMN\n",
    "exchange_rate = 0.88\n",
    "\n",
    "for row in range(2, item.max_row + 1):\n",
    "    item[f'F{row}'] = round(item[f'C{row}'].value * exchange_rate, 2)\n",
    "\n",
    "for index, cell in enumerate(item['F'], start=1):\n",
    "    print(f'F{index}', cell.value)"
   ]
  },
  {
   "cell_type": "markdown",
   "id": "d231f9fd",
   "metadata": {},
   "source": [
    "### ASSIGNMENT: WRITING DATA TO A COLUMN\n",
    "\n",
    "Hi again!\n",
    "\n",
    "* In addition to a planned EU expansion this year, we’re considering expanding into Japan and the UK next year.\n",
    "* Since we’re going to do this a few times, can you create a currency converter function?\n",
    "* Once we have that, create a column for ‘GBP Price’ and ‘JPY Price’, to store Pound and Yen prices.\n",
    "* The notebook has conversion rates and more details."
   ]
  },
  {
   "cell_type": "code",
   "execution_count": 10,
   "id": "612b6bb8",
   "metadata": {},
   "outputs": [],
   "source": [
    "def currency_converter(price, ex_rate=0.88):\n",
    "    return round(price * ex_rate, 2)"
   ]
  },
  {
   "cell_type": "code",
   "execution_count": 13,
   "id": "d8b2fd31",
   "metadata": {},
   "outputs": [],
   "source": [
    "# range method on British Pounds\n",
    "pound_exchange_rate = 0.76\n",
    "\n",
    "item[\"G1\"] = \"GBP Price\"\n",
    "\n",
    "for row in range(2, item.max_row + 1):\n",
    "    item[\"G\" + str(row)] = currency_converter(\n",
    "        item[\"C\" + str(row)].value, pound_exchange_rate)"
   ]
  },
  {
   "cell_type": "code",
   "execution_count": 16,
   "id": "2b32f33d",
   "metadata": {},
   "outputs": [],
   "source": [
    "# enumerate method for Japanese Yen\n",
    "yen_exchange_rate = 123\n",
    "\n",
    "for index, cell in enumerate(item[\"C\"], start=1):\n",
    "    if index == 1:\n",
    "        item[f'H{index}'] = \"JPY Price\"\n",
    "    else:\n",
    "        item[f'H{index}'] = currency_converter(\n",
    "            cell.value, yen_exchange_rate)"
   ]
  },
  {
   "cell_type": "markdown",
   "id": "486dc01e",
   "metadata": {},
   "source": [
    "## INSERTING COLUMNS\n",
    "\n",
    "* You can insert columns to a worksheet without overwriting existing data\n",
    "* `insert_cols(idx=index)` inserts a column in the specified sheet and index"
   ]
  },
  {
   "cell_type": "code",
   "execution_count": 22,
   "id": "6926cfde",
   "metadata": {},
   "outputs": [
    {
     "name": "stdout",
     "output_type": "stream",
     "text": [
      "Column E header: Euro Price\n",
      "Column F header: Available Sizes\n"
     ]
    }
   ],
   "source": [
    "item.insert_cols(idx=5)\n",
    "item['E1'] = 'Euro Price'\n",
    "\n",
    "print('Column E header: '+ item['E1'].value)\n",
    "print('Column F header: '+ item['F1'].value)"
   ]
  },
  {
   "cell_type": "code",
   "execution_count": 24,
   "id": "5766329c",
   "metadata": {},
   "outputs": [
    {
     "name": "stdout",
     "output_type": "stream",
     "text": [
      "Column E header: Available Sizes\n"
     ]
    }
   ],
   "source": [
    "# DELETING COLUMNS\n",
    "item['E1'].value\n",
    "\n",
    "item.delete_cols(idx=5)\n",
    "print('Column E header: '+ item['E1'].value)"
   ]
  },
  {
   "cell_type": "code",
   "execution_count": 28,
   "id": "32d3637a",
   "metadata": {},
   "outputs": [],
   "source": [
    "# SAVING YOUR WORKBOOK\n",
    "wb.save('maven_data_new.xlsx')"
   ]
  },
  {
   "cell_type": "markdown",
   "id": "76eec257",
   "metadata": {},
   "source": [
    "##  BRINGING IT ALL TOGETHER"
   ]
  },
  {
   "cell_type": "code",
   "execution_count": 29,
   "id": "3f1247c9",
   "metadata": {},
   "outputs": [],
   "source": [
    "import openpyxl as xl \n",
    "workbook = xl.load_workbook(filename='maven_ski_shop_data.xlsx')\n",
    "items = workbook['Item_Info']"
   ]
  },
  {
   "cell_type": "code",
   "execution_count": 32,
   "id": "bcd9d99d",
   "metadata": {},
   "outputs": [],
   "source": [
    "items['F1'] = 'Euro Price'\n",
    "exchange_rate = 0.88\n",
    "\n",
    "for row in range(2, items.max_row + 1):\n",
    "    items[f'F{row}'] = round(items[f'F{row}'].value * exchange_rate, 2)"
   ]
  },
  {
   "cell_type": "code",
   "execution_count": 33,
   "id": "87300407",
   "metadata": {},
   "outputs": [],
   "source": [
    "workbook.save('maven_data_new_pricing.xlsx')"
   ]
  }
 ],
 "metadata": {
  "kernelspec": {
   "display_name": "Python 3 (ipykernel)",
   "language": "python",
   "name": "python3"
  },
  "language_info": {
   "codemirror_mode": {
    "name": "ipython",
    "version": 3
   },
   "file_extension": ".py",
   "mimetype": "text/x-python",
   "name": "python",
   "nbconvert_exporter": "python",
   "pygments_lexer": "ipython3",
   "version": "3.9.12"
  }
 },
 "nbformat": 4,
 "nbformat_minor": 5
}
