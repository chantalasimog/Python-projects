{
 "cells": [
  {
   "cell_type": "markdown",
   "id": "3b93bc13",
   "metadata": {},
   "source": [
    "# SEQUENCE DATA TYPES\n",
    "\n",
    "In this section we’ll cover sequence data types, including lists, tuples, and ranges, which are capable of storing many values\n",
    "\n",
    "**Lists** are iterable data types capable of storing many individual elements"
   ]
  },
  {
   "cell_type": "code",
   "execution_count": 1,
   "id": "883ea2ee",
   "metadata": {},
   "outputs": [
    {
     "data": {
      "text/plain": [
       "['H', 'e', 'l', 'l', 'o']"
      ]
     },
     "execution_count": 1,
     "metadata": {},
     "output_type": "execute_result"
    }
   ],
   "source": [
    "ramdom_list = ['snowboard', 10.54, None, -1]\n",
    "item_list = ['Snowboard', 'Boots', 'Helmet']\n",
    "empty_list = []\n",
    "list('Hello') # You can create lists from other iterable data types"
   ]
  },
  {
   "cell_type": "code",
   "execution_count": 2,
   "id": "4fc60894",
   "metadata": {},
   "outputs": [
    {
     "data": {
      "text/plain": [
       "False"
      ]
     },
     "execution_count": 2,
     "metadata": {},
     "output_type": "execute_result"
    }
   ],
   "source": [
    "size_in_stock = ['XS', 'S', 'L', 'XL', 'XXL']\n",
    "'M' in size_in_stock"
   ]
  },
  {
   "cell_type": "code",
   "execution_count": 4,
   "id": "7db58ef9",
   "metadata": {},
   "outputs": [
    {
     "name": "stdout",
     "output_type": "stream",
     "text": [
      "Well, will be small for me.\n"
     ]
    }
   ],
   "source": [
    "if 'M' in size_in_stock:\n",
    "    print(\"I'll take the medium please.\")\n",
    "elif 'S' in size_in_stock:\n",
    "    print('Well, will be small for me.')\n",
    "else:\n",
    "    print(\"I'll wait till you have medium...\")"
   ]
  },
  {
   "cell_type": "code",
   "execution_count": 5,
   "id": "4ffd4783",
   "metadata": {},
   "outputs": [
    {
     "data": {
      "text/plain": [
       "'Helmet'"
      ]
     },
     "execution_count": 5,
     "metadata": {},
     "output_type": "execute_result"
    }
   ],
   "source": [
    "# Slice notation can also be used to access portions of lists [start: stop: step size]\n",
    "item_list = ['Snowboard', 'Boots', 'Helmet']\n",
    "item_list[2] # An index of 2 grabs the fourth list element"
   ]
  },
  {
   "cell_type": "code",
   "execution_count": 8,
   "id": "321f724d",
   "metadata": {},
   "outputs": [
    {
     "data": {
      "text/plain": [
       "['Helmet', 'Goggles']"
      ]
     },
     "execution_count": 8,
     "metadata": {},
     "output_type": "execute_result"
    }
   ],
   "source": [
    "item_list = ['Snowboard', 'Boots', 'Helmet', 'Goggles', 'Bindings']\n",
    "item_list[:2] # An index of 2 grabs the fourth list element\n",
    "item_list[::2] # grabs every other element in the list\n",
    "item_list[2:4] # grabs the 3rd (index of 2) and 4th (index of 3) elements in the list"
   ]
  },
  {
   "cell_type": "code",
   "execution_count": 9,
   "id": "4eab33f8",
   "metadata": {},
   "outputs": [
    {
     "name": "stdout",
     "output_type": "stream",
     "text": [
      "Snowboard Boots Helmet\n"
     ]
    }
   ],
   "source": [
    "# Lists elements can be unpacked into individual variables\n",
    "item_list = ['Snowboard', 'Boots', 'Helmet']\n",
    "s, b, h = item_list\n",
    "print(s, b, h)"
   ]
  },
  {
   "cell_type": "markdown",
   "id": "9b8901d3",
   "metadata": {},
   "source": [
    "## MODIFYING LISTS\n",
    "\n",
    "Lists elements can be changed, but not added, by using indexing"
   ]
  },
  {
   "cell_type": "code",
   "execution_count": 10,
   "id": "2d9b79e6",
   "metadata": {},
   "outputs": [
    {
     "data": {
      "text/plain": [
       "['Coat', 'Gloves', 'Snowpants']"
      ]
     },
     "execution_count": 10,
     "metadata": {},
     "output_type": "execute_result"
    }
   ],
   "source": [
    "new_items = ['Coat', 'Backpack', 'Snowpants']\n",
    "new_items[1] = 'Gloves'\n",
    "new_items"
   ]
  },
  {
   "cell_type": "markdown",
   "id": "c752cc5a",
   "metadata": {},
   "source": [
    "You can `.append()` or `.insert()` a new element to a list\n",
    "* `.append(element)` – adds an element to the end of the list\n",
    "* `.insert(index, element)` – adds an element to the specified index in the list"
   ]
  },
  {
   "cell_type": "code",
   "execution_count": 11,
   "id": "b5716708",
   "metadata": {},
   "outputs": [
    {
     "data": {
      "text/plain": [
       "['Snowboard', 'Boots', 'Helmet', 'Goggles', 'Bindings', 'Coat']"
      ]
     },
     "execution_count": 11,
     "metadata": {},
     "output_type": "execute_result"
    }
   ],
   "source": [
    "item_list = ['Snowboard', 'Boots', 'Helmet', 'Goggles', 'Bindings']\n",
    "item_list.append('Coat')\n",
    "item_list"
   ]
  },
  {
   "cell_type": "code",
   "execution_count": 12,
   "id": "5adc99aa",
   "metadata": {},
   "outputs": [
    {
     "data": {
      "text/plain": [
       "['Snowboard', 'Boots', 'Helmet', 'Coat', 'Goggles', 'Bindings']"
      ]
     },
     "execution_count": 12,
     "metadata": {},
     "output_type": "execute_result"
    }
   ],
   "source": [
    "item_list = ['Snowboard', 'Boots', 'Helmet', 'Goggles', 'Bindings']\n",
    "item_list.insert(3,'Coat')\n",
    "item_list"
   ]
  },
  {
   "cell_type": "code",
   "execution_count": 15,
   "id": "42c7f03d",
   "metadata": {},
   "outputs": [
    {
     "name": "stdout",
     "output_type": "stream",
     "text": [
      "['Snowboard', 'Boots', 'Helmet', 'Goggles', 'Bindings', 'Coat', 'Backpack', 'Snowpants']\n"
     ]
    }
   ],
   "source": [
    "# Lists can be combined, or concatenated, with + and repeated with *\n",
    "item_list = ['Snowboard', 'Boots', 'Helmet', 'Goggles', 'Bindings']\n",
    "new_item = ['Coat', 'Backpack', 'Snowpants']\n",
    "\n",
    "all_item = item_list + new_item\n",
    "print(all_item)"
   ]
  },
  {
   "cell_type": "code",
   "execution_count": 16,
   "id": "c9a30521",
   "metadata": {},
   "outputs": [
    {
     "data": {
      "text/plain": [
       "['Coat']"
      ]
     },
     "execution_count": 16,
     "metadata": {},
     "output_type": "execute_result"
    }
   ],
   "source": [
    "# There are two ways to remove lists elements:\n",
    "new_item = ['Coat', 'Backpack', 'Snowpants']\n",
    "del new_item[1:3]\n",
    "new_item"
   ]
  },
  {
   "cell_type": "code",
   "execution_count": 17,
   "id": "1636c291",
   "metadata": {},
   "outputs": [
    {
     "data": {
      "text/plain": [
       "['Backpack', 'Snowpants']"
      ]
     },
     "execution_count": 17,
     "metadata": {},
     "output_type": "execute_result"
    }
   ],
   "source": [
    "new_item = ['Coat', 'Backpack', 'Snowpants']\n",
    "new_item.remove('Coat')\n",
    "new_item"
   ]
  },
  {
   "cell_type": "markdown",
   "id": "7bc31be7",
   "metadata": {},
   "source": [
    "## LIST FUNCTIONS & METHODS"
   ]
  },
  {
   "cell_type": "code",
   "execution_count": 25,
   "id": "720b8a0e",
   "metadata": {},
   "outputs": [
    {
     "data": {
      "text/plain": [
       "247.31333333333336"
      ]
     },
     "execution_count": 25,
     "metadata": {},
     "output_type": "execute_result"
    }
   ],
   "source": [
    "transactions = [10.44, 20.56, 200.14, 1242.66, 2.07, 8.01]\n",
    "len(transactions) # 6\n",
    "sum(transactions) # 1483.88\n",
    "min(transactions) #2.07\n",
    "max(transactions) #1242.66\n",
    "sum(transactions)/len(transactions) #247.31 (AVG)"
   ]
  },
  {
   "cell_type": "code",
   "execution_count": 19,
   "id": "1201e7f0",
   "metadata": {},
   "outputs": [
    {
     "data": {
      "text/plain": [
       "[2.07, 8.01, 10.44, 20.56, 200.14, 1242.66]"
      ]
     },
     "execution_count": 19,
     "metadata": {},
     "output_type": "execute_result"
    }
   ],
   "source": [
    "transactions.sort() # The .sort() method sorts the list permanently (in place)\n",
    "transactions"
   ]
  },
  {
   "cell_type": "code",
   "execution_count": 20,
   "id": "8f385655",
   "metadata": {},
   "outputs": [
    {
     "data": {
      "text/plain": [
       "[2.07, 8.01, 10.44, 20.56, 200.14, 1242.66]"
      ]
     },
     "execution_count": 20,
     "metadata": {},
     "output_type": "execute_result"
    }
   ],
   "source": [
    "sorted(transactions) # The sorted function returns a sorted list, but does not change the original (not in place)"
   ]
  },
  {
   "cell_type": "code",
   "execution_count": 24,
   "id": "1796e797",
   "metadata": {},
   "outputs": [
    {
     "data": {
      "text/plain": [
       "[1242.66, 200.14, 20.56, 10.44, 8.01, 2.07]"
      ]
     },
     "execution_count": 24,
     "metadata": {},
     "output_type": "execute_result"
    }
   ],
   "source": [
    "transactions.index(200.14) # 2 - Returns the index of a specified value within a list\n",
    "transactions.count(200.14) # 1 - Counts the number of times a given value occurs in a list\n",
    "transactions.reverse() # Reverses the order of the list elements in place\n",
    "transactions"
   ]
  },
  {
   "cell_type": "markdown",
   "id": "6ecf0d58",
   "metadata": {},
   "source": [
    "##  NESTED LISTS\n",
    "\n",
    "Lists stored as elements of another list are known as nested lists"
   ]
  },
  {
   "cell_type": "code",
   "execution_count": 26,
   "id": "5ea06d19",
   "metadata": {},
   "outputs": [
    {
     "data": {
      "text/plain": [
       "[['a', 'b', 'c'], ['d', 'e', 'f'], ['g', 'h', 'i']]"
      ]
     },
     "execution_count": 26,
     "metadata": {},
     "output_type": "execute_result"
    }
   ],
   "source": [
    "list_of_list = [['a', 'b', 'c'],\n",
    "               ['d', 'e', 'f'],\n",
    "               ['g', 'h', 'i']]\n",
    "list_of_list"
   ]
  },
  {
   "cell_type": "code",
   "execution_count": 27,
   "id": "7242b3d2",
   "metadata": {},
   "outputs": [
    {
     "data": {
      "text/plain": [
       "['d', 'e', 'f']"
      ]
     },
     "execution_count": 27,
     "metadata": {},
     "output_type": "execute_result"
    }
   ],
   "source": [
    "list_of_list[1] # Referencing a single index value will return an entire nested list"
   ]
  },
  {
   "cell_type": "code",
   "execution_count": 28,
   "id": "e18cb1b2",
   "metadata": {},
   "outputs": [
    {
     "data": {
      "text/plain": [
       "'e'"
      ]
     },
     "execution_count": 28,
     "metadata": {},
     "output_type": "execute_result"
    }
   ],
   "source": [
    "list_of_list[1][1] # Adding a second index value will return individual elements from nested lists"
   ]
  },
  {
   "cell_type": "markdown",
   "id": "3761c97a",
   "metadata": {},
   "source": [
    "List **methods** & **functions** still work with nested lists"
   ]
  },
  {
   "cell_type": "code",
   "execution_count": 29,
   "id": "e842920f",
   "metadata": {},
   "outputs": [
    {
     "data": {
      "text/plain": [
       "[['a', 'b', 'c'], ['d', 'e', 'f'], ['g', 'h', 'i'], 'k']"
      ]
     },
     "execution_count": 29,
     "metadata": {},
     "output_type": "execute_result"
    }
   ],
   "source": [
    "list_of_list.append('k')\n",
    "list_of_list"
   ]
  },
  {
   "cell_type": "code",
   "execution_count": 30,
   "id": "7cbd56ff",
   "metadata": {},
   "outputs": [
    {
     "data": {
      "text/plain": [
       "1"
      ]
     },
     "execution_count": 30,
     "metadata": {},
     "output_type": "execute_result"
    }
   ],
   "source": [
    "list_of_list[2].count('h')"
   ]
  },
  {
   "cell_type": "markdown",
   "id": "a996f8c3",
   "metadata": {},
   "source": [
    "## COPYING LISTS\n",
    "\n",
    "There are 3 different ways to copy lists:\n",
    "1. Variable assignment – assigning a list to a new variable creates a “view”\n",
    "    * Any changes made to one of the lists will be reflected in the other\n",
    "2. `.copy()` – applying this method to a list creates a ‘shallow’ copy\n",
    "    * Changes to entire elements (nested lists) will not carry over between original and copy\n",
    "    * Changes to individual elements within a nested list will still be reflected in both\n",
    "3. `deepcopy()` – using this function on a list creates entirely independent lists\n",
    "    * Any changes made to one of the lists will NOT impact the other\n",
    "\n",
    "\n",
    "\n",
    "Copying a list via variable assignment creates a “view” of the list\n",
    "*  Both variables point to the same object in memory\n",
    "*  Changing an element in one list will result in a change to the other"
   ]
  },
  {
   "cell_type": "code",
   "execution_count": 33,
   "id": "d336a251",
   "metadata": {},
   "outputs": [
    {
     "data": {
      "text/plain": [
       "[['a', 'b', 'c'], ['x', 'y', 'z'], ['g', 'h', 'i']]"
      ]
     },
     "execution_count": 33,
     "metadata": {},
     "output_type": "execute_result"
    }
   ],
   "source": [
    "list_of_list = [['a', 'b', 'c'],\n",
    "               ['d', 'e', 'f'],\n",
    "               ['g', 'h', 'i']]\n",
    "\n",
    "list_of_list2 = list_of_list\n",
    "list_of_list[1] = ['x', 'y', 'z']\n",
    "list_of_list2"
   ]
  },
  {
   "cell_type": "markdown",
   "id": "d7b7b4f9",
   "metadata": {},
   "source": [
    "Copying a list with the `.copy()` method creates a copy of the list\n",
    "* Changes to entire elements (nested lists) will not carry over between original and copy\n",
    "* Changes to individual elements within a nested list will still be reflected in both"
   ]
  },
  {
   "cell_type": "code",
   "execution_count": null,
   "id": "130e5aed",
   "metadata": {},
   "outputs": [],
   "source": [
    "list_of_list = [['a', 'b', 'c'],\n",
    "               ['d', 'e', 'f'],\n",
    "               ['g', 'h', 'i']]\n",
    "\n",
    "list_of_list2 = list_of_list.copy()\n",
    "list_of_list[0] = ['x', 'y', 'z']\n",
    "list_of_list2\n",
    "# Since the entire nested list at index 0 was replaced, the change is NOT reflected in the copy"
   ]
  },
  {
   "cell_type": "markdown",
   "id": "24bf7426",
   "metadata": {},
   "source": [
    "Copying a list with the `deepcopy()` function creates a separate copy of the list\n",
    "* Any changes made to one of the lists will NOT impact the other"
   ]
  },
  {
   "cell_type": "code",
   "execution_count": 34,
   "id": "20255fdb",
   "metadata": {},
   "outputs": [
    {
     "data": {
      "text/plain": [
       "[['a', 'b', 'c'], ['d', 'e', 'f'], ['g', 'h', 'i']]"
      ]
     },
     "execution_count": 34,
     "metadata": {},
     "output_type": "execute_result"
    }
   ],
   "source": [
    "from copy import deepcopy \n",
    "list_of_list = [['a', 'b', 'c'],\n",
    "               ['d', 'e', 'f'],\n",
    "               ['g', 'h', 'i']]\n",
    "list_of_list2 = deepcopy(list_of_list)\n",
    "list_of_list[0][1] = 'Oh no!'\n",
    "list_of_list2\n",
    "# The change is NOT reflected in the copy, even though a single element (index of 1) \n",
    "# within the nested list was modified"
   ]
  },
  {
   "cell_type": "markdown",
   "id": "da936ada",
   "metadata": {},
   "source": [
    "## TUPLES\n",
    "\n",
    "**Tuples** are iterable data types capable of storing many individual items\n",
    "* Tuples are very similar to lists, except they are immutable\n",
    "* Tuple items can still be any data type, but they CANNOT be added, changed, or removed once the tuple is created"
   ]
  },
  {
   "cell_type": "code",
   "execution_count": 36,
   "id": "2fc821f3",
   "metadata": {},
   "outputs": [
    {
     "data": {
      "text/plain": [
       "('Snowboard', 'Boots', 'Helmet', 'Goggles', 'Bindings')"
      ]
     },
     "execution_count": 36,
     "metadata": {},
     "output_type": "execute_result"
    }
   ],
   "source": [
    "item_tuple = ('Snowboard', 'Boots', 'Helmet', 'Goggles', 'Bindings')\n",
    "item_tuple # Tuples are created with parenthesis (), or the tuple() function"
   ]
  },
  {
   "cell_type": "code",
   "execution_count": 38,
   "id": "1184fafc",
   "metadata": {},
   "outputs": [
    {
     "data": {
      "text/plain": [
       "5"
      ]
     },
     "execution_count": 38,
     "metadata": {},
     "output_type": "execute_result"
    }
   ],
   "source": [
    "item_tuple[3] # 'Goggles'\n",
    "item_tuple[:3] # 'Snowboard', 'Boots', 'Helmet'\n",
    "len(item_tuple) # 5"
   ]
  },
  {
   "cell_type": "code",
   "execution_count": 40,
   "id": "3e833efd",
   "metadata": {},
   "outputs": [
    {
     "name": "stdout",
     "output_type": "stream",
     "text": [
      "The list is 120 Bytes\n",
      "The list is 80 Bytes\n"
     ]
    }
   ],
   "source": [
    "# Tuples require less memory than a list (tuple is 33% smaller than the list)\n",
    "import sys\n",
    "\n",
    "item_list = ['Snowboard', 'Boots', 'Helmet', 'Goggles', 'Bindings']\n",
    "item_tuple = ('Snowboard', 'Boots', 'Helmet', 'Goggles', 'Bindings')\n",
    "\n",
    "print(f\"The list is {sys.getsizeof(item_list)} \" + 'Bytes')\n",
    "print(f\"The list is {sys.getsizeof(item_tuple)} \" + 'Bytes')"
   ]
  },
  {
   "cell_type": "code",
   "execution_count": 42,
   "id": "d69b1683",
   "metadata": {},
   "outputs": [
    {
     "name": "stdout",
     "output_type": "stream",
     "text": [
      "0.0054099460003271815\n",
      "0.0059094339999319345\n"
     ]
    }
   ],
   "source": [
    "# Operations execute quicker on tuples than on lists\n",
    "import timeit\n",
    "\n",
    "# calculate time of summing list 10000 times \n",
    "print(timeit.timeit(\"sum([10.44, 20.56, 200.14, 1242.66, 2.07, 8.01])\", number =10000))\n",
    "\n",
    "# calculate time of summing tuple 10000 times \n",
    "print(timeit.timeit(\"sum((10.44, 20.56, 200.14, 1242.66, 2.07, 8.01))\", number =10000))"
   ]
  },
  {
   "cell_type": "code",
   "execution_count": 43,
   "id": "1e1da85d",
   "metadata": {},
   "outputs": [
    {
     "data": {
      "text/plain": [
       "(1, 2, 3)"
      ]
     },
     "execution_count": 43,
     "metadata": {},
     "output_type": "execute_result"
    }
   ],
   "source": [
    "# Tuples reduce user error by preventing modification to data\n",
    "# There are cases in which you explicitly do not want others to be able to modify data\n",
    "\n",
    "# Tuples are common output in imported functions\n",
    "a = 1\n",
    "b = 2\n",
    "c = 3\n",
    "a,b,c"
   ]
  },
  {
   "cell_type": "markdown",
   "id": "07abfb12",
   "metadata": {},
   "source": [
    "## RANGE\n",
    "\n",
    "Ranges are sequences of integers generated by a given start, stop, and step size\n",
    "* They are more memory efficient than tuples, as they don’t generate the integers until needed\n",
    "* They save time, as you don’t need to write the list of integers manually in the code\n",
    "* They are commonly used with loops (more on that later!)"
   ]
  },
  {
   "cell_type": "code",
   "execution_count": 46,
   "id": "2c5c0732",
   "metadata": {},
   "outputs": [
    {
     "name": "stdout",
     "output_type": "stream",
     "text": [
      "range(1, 5)\n",
      "[1, 2, 3, 4]\n",
      "(0, 1, 2, 3, 4)\n"
     ]
    }
   ],
   "source": [
    "example_range = range(1,5,1)\n",
    "print(example_range) #Note that printing a range does NOT return the integers\n",
    "print(list(example_range))\n",
    "print(tuple(range(len('Hello'))))"
   ]
  }
 ],
 "metadata": {
  "kernelspec": {
   "display_name": "Python 3 (ipykernel)",
   "language": "python",
   "name": "python3"
  },
  "language_info": {
   "codemirror_mode": {
    "name": "ipython",
    "version": 3
   },
   "file_extension": ".py",
   "mimetype": "text/x-python",
   "name": "python",
   "nbconvert_exporter": "python",
   "pygments_lexer": "ipython3",
   "version": "3.9.12"
  }
 },
 "nbformat": 4,
 "nbformat_minor": 5
}
