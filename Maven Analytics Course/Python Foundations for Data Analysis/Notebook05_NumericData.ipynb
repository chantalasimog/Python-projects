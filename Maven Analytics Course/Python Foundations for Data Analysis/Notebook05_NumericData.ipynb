{
 "cells": [
  {
   "cell_type": "markdown",
   "id": "e6bfda06",
   "metadata": {},
   "source": [
    "# Numeric Data \n",
    "In this section we’ll cover numeric data types, including how to convert between them, perform arithmetic operations, and apply numeric functions\n",
    "\n",
    "\n",
    "## Numeric Data Types \n",
    "There are 3 types of numeric data types in Python:\n",
    "\n",
    "1. Integers (int) – whole numbers without decimal points\n",
    "• Examples: 3, 42, -14\n",
    "2. Floats (float) – real numbers with decimal points\n",
    "• Examples: 3.14, -1.20134, 0.088\n",
    "3. Complex (complex) – numbers with real and imaginary portions\n",
    "• Examples: 3 + 2j, 2.4 - 1j, -2j"
   ]
  },
  {
   "cell_type": "markdown",
   "id": "ae34f772",
   "metadata": {},
   "source": [
    "## Numeric Type Conversion"
   ]
  },
  {
   "cell_type": "markdown",
   "id": "8c3a1b26",
   "metadata": {},
   "source": [
    "### Floats into integers:"
   ]
  },
  {
   "cell_type": "code",
   "execution_count": 5,
   "id": "3bd666c9",
   "metadata": {},
   "outputs": [
    {
     "data": {
      "text/plain": [
       "float"
      ]
     },
     "execution_count": 5,
     "metadata": {},
     "output_type": "execute_result"
    }
   ],
   "source": [
    "number = 1.999\n",
    "type(number)"
   ]
  },
  {
   "cell_type": "code",
   "execution_count": 6,
   "id": "30678b5e",
   "metadata": {},
   "outputs": [
    {
     "data": {
      "text/plain": [
       "(1, int)"
      ]
     },
     "execution_count": 6,
     "metadata": {},
     "output_type": "execute_result"
    }
   ],
   "source": [
    "fixed_number = int(number)\n",
    "fixed_number, type(fixed_number)"
   ]
  },
  {
   "cell_type": "code",
   "execution_count": 3,
   "id": "06f38981",
   "metadata": {},
   "outputs": [
    {
     "data": {
      "text/plain": [
       "(1.0, float)"
      ]
     },
     "execution_count": 3,
     "metadata": {},
     "output_type": "execute_result"
    }
   ],
   "source": [
    "number = 1\n",
    "fixed_number = float(number)\n",
    "fixed_number, type(fixed_number)"
   ]
  },
  {
   "cell_type": "markdown",
   "id": "59d7c295",
   "metadata": {},
   "source": [
    "### Strings into floats (or integers):"
   ]
  },
  {
   "cell_type": "code",
   "execution_count": 7,
   "id": "feec5a21",
   "metadata": {},
   "outputs": [
    {
     "data": {
      "text/plain": [
       "str"
      ]
     },
     "execution_count": 7,
     "metadata": {},
     "output_type": "execute_result"
    }
   ],
   "source": [
    "text = '1.2' # As long as they only contain numeric characters:\n",
    "type(text)"
   ]
  },
  {
   "cell_type": "code",
   "execution_count": 8,
   "id": "fb21b1e7",
   "metadata": {},
   "outputs": [
    {
     "data": {
      "text/plain": [
       "(1, int)"
      ]
     },
     "execution_count": 8,
     "metadata": {},
     "output_type": "execute_result"
    }
   ],
   "source": [
    "fixed_number = int(number)\n",
    "fixed_number, type(fixed_number)"
   ]
  },
  {
   "cell_type": "markdown",
   "id": "f66fec41",
   "metadata": {},
   "source": [
    "## Arithmetic Operator \n",
    "\n",
    "* Addition + \n",
    "* Substraction - \n",
    "* Multiplication * \n",
    "* Division / \n",
    "* Floor Division //\n",
    "* Modulo %\n",
    "* Exponentiation ** \n",
    "\n",
    "Python uses the standard **PEMDAS** order of operations to perform calculations\n",
    "1. Parentheses\n",
    "2. Exponentiation\n",
    "3. Multiplication & Division (including Floor Division & Modulo), from left to right\n",
    "4. Addition & Subtraction, from left to right"
   ]
  },
  {
   "cell_type": "code",
   "execution_count": 9,
   "id": "433505fb",
   "metadata": {},
   "outputs": [],
   "source": [
    "my_string = '3579'\n",
    "my_float = 3.579\n",
    "my_int = 3"
   ]
  },
  {
   "cell_type": "code",
   "execution_count": 10,
   "id": "4ffb1a87",
   "metadata": {},
   "outputs": [
    {
     "data": {
      "text/plain": [
       "3579"
      ]
     },
     "execution_count": 10,
     "metadata": {},
     "output_type": "execute_result"
    }
   ],
   "source": [
    "int(my_string)"
   ]
  },
  {
   "cell_type": "code",
   "execution_count": 11,
   "id": "9d9657f5",
   "metadata": {},
   "outputs": [
    {
     "data": {
      "text/plain": [
       "3"
      ]
     },
     "execution_count": 11,
     "metadata": {},
     "output_type": "execute_result"
    }
   ],
   "source": [
    "int(my_float)"
   ]
  },
  {
   "cell_type": "code",
   "execution_count": 12,
   "id": "04d58a6e",
   "metadata": {},
   "outputs": [
    {
     "data": {
      "text/plain": [
       "3579.0"
      ]
     },
     "execution_count": 12,
     "metadata": {},
     "output_type": "execute_result"
    }
   ],
   "source": [
    "float(my_string)"
   ]
  },
  {
   "cell_type": "code",
   "execution_count": 14,
   "id": "5d56ad74",
   "metadata": {},
   "outputs": [
    {
     "data": {
      "text/plain": [
       "-0.5790000000000002"
      ]
     },
     "execution_count": 14,
     "metadata": {},
     "output_type": "execute_result"
    }
   ],
   "source": [
    "my_int - my_float # Change the operator for the results "
   ]
  },
  {
   "cell_type": "markdown",
   "id": "038e2548",
   "metadata": {},
   "source": [
    "### ASSIGNMENT\n",
    "\n",
    "Hi there!\n",
    "\n",
    "Can you help calculate the following numbers?\n",
    "* Gross profit from selling a snowboard\n",
    "* Gross margin from selling a snowboard\n",
    "* Price needed for a gross margin of 70%\n",
    "* Sales tax on a snowboard sale\n",
    "* Amount of money if the gross profit from selling 5 snowboards is invested for one year \n",
    "\n",
    "There are more details in the file attached."
   ]
  },
  {
   "cell_type": "code",
   "execution_count": 15,
   "id": "be4df517",
   "metadata": {},
   "outputs": [],
   "source": [
    "snowboard_price = 499.99\n",
    "snowboard_cost = 199.99"
   ]
  },
  {
   "cell_type": "code",
   "execution_count": 21,
   "id": "c7662f0c",
   "metadata": {},
   "outputs": [
    {
     "data": {
      "text/plain": [
       "300.0"
      ]
     },
     "execution_count": 21,
     "metadata": {},
     "output_type": "execute_result"
    }
   ],
   "source": [
    "# Gross profit form sellig a snowboard \n",
    "gross_profit = snowboard_price-snowboard_cost\n",
    "gross_profit"
   ]
  },
  {
   "cell_type": "code",
   "execution_count": 22,
   "id": "0bed43de",
   "metadata": {},
   "outputs": [
    {
     "data": {
      "text/plain": [
       "0.6000120002400048"
      ]
     },
     "execution_count": 22,
     "metadata": {},
     "output_type": "execute_result"
    }
   ],
   "source": [
    "# Gross margin from selling a snowboard\n",
    "gross_margin = gross_profit/snowboard_price\n",
    "gross_margin"
   ]
  },
  {
   "cell_type": "code",
   "execution_count": 24,
   "id": "51ff8601",
   "metadata": {},
   "outputs": [
    {
     "data": {
      "text/plain": [
       "666.6333333333332"
      ]
     },
     "execution_count": 24,
     "metadata": {},
     "output_type": "execute_result"
    }
   ],
   "source": [
    "# Price needed for a gross margin of 70%\n",
    "desired_margin = .7\n",
    "price_needed = snowboard_cost / (1-desired_margin)\n",
    "price_needed"
   ]
  },
  {
   "cell_type": "code",
   "execution_count": 25,
   "id": "750d8b93",
   "metadata": {},
   "outputs": [
    {
     "data": {
      "text/plain": [
       "39.9992"
      ]
     },
     "execution_count": 25,
     "metadata": {},
     "output_type": "execute_result"
    }
   ],
   "source": [
    "# Sales tax on a snowboard sale (tax rate is 8%)\n",
    "tax_rate = .08 \n",
    "sales_tax = snowboard_price * tax_rate\n",
    "sales_tax"
   ]
  },
  {
   "cell_type": "code",
   "execution_count": 26,
   "id": "ae233e01",
   "metadata": {},
   "outputs": [
    {
     "data": {
      "text/plain": [
       "1575.0"
      ]
     },
     "execution_count": 26,
     "metadata": {},
     "output_type": "execute_result"
    }
   ],
   "source": [
    "# Amount of money if the gross profit from selling 5 snowboards is invested for one year \n",
    "interest_rate = .05\n",
    "amount_invested = gross_profit * 5\n",
    "\n",
    "amount = amount_invested + (amount_invested * interest_rate)\n",
    "amount"
   ]
  },
  {
   "cell_type": "markdown",
   "id": "14dee212",
   "metadata": {},
   "source": [
    "## NUMERIC FUNCTIONS\n",
    "\n",
    "Single number:\n",
    "* Rounds -  Round a number to a specified number of digits\n",
    "* abs - Returns the absolute value of a number\n",
    "\n",
    "Multiple numbers:\n",
    "* Sum - Sums all numbers in an iterable\n",
    "* Min -  Returns the smallest value in an iterable\n",
    "* Max - Returns the largest value in an iterable"
   ]
  },
  {
   "cell_type": "code",
   "execution_count": 27,
   "id": "ee235030",
   "metadata": {},
   "outputs": [
    {
     "data": {
      "text/plain": [
       "3.14"
      ]
     },
     "execution_count": 27,
     "metadata": {},
     "output_type": "execute_result"
    }
   ],
   "source": [
    "# The round() function rounds a number to a specified number of digits\n",
    "round(3.141592, 2)  # This rounds the number to 2 decimal places"
   ]
  },
  {
   "cell_type": "code",
   "execution_count": 28,
   "id": "e9998aa0",
   "metadata": {},
   "outputs": [
    {
     "data": {
      "text/plain": [
       "4"
      ]
     },
     "execution_count": 28,
     "metadata": {},
     "output_type": "execute_result"
    }
   ],
   "source": [
    "round(3.51) # It rounds down decimals < 0.5 and rounds up decimals >= 0.5"
   ]
  },
  {
   "cell_type": "code",
   "execution_count": 29,
   "id": "f4b0a458",
   "metadata": {},
   "outputs": [
    {
     "data": {
      "text/plain": [
       "3"
      ]
     },
     "execution_count": 29,
     "metadata": {},
     "output_type": "execute_result"
    }
   ],
   "source": [
    "#The abs() function returns the absolute value of a number\n",
    "abs(-3) # This will always return a positive number"
   ]
  },
  {
   "cell_type": "markdown",
   "id": "631b5593",
   "metadata": {},
   "source": [
    "The sum(), min(), and min() functions perform sum, minimum, and maximum calculations on iterable data types that only contain numeric values"
   ]
  },
  {
   "cell_type": "code",
   "execution_count": 30,
   "id": "797016d0",
   "metadata": {},
   "outputs": [
    {
     "data": {
      "text/plain": [
       "12"
      ]
     },
     "execution_count": 30,
     "metadata": {},
     "output_type": "execute_result"
    }
   ],
   "source": [
    "sum((3,4,5))"
   ]
  },
  {
   "cell_type": "code",
   "execution_count": 31,
   "id": "3f49d688",
   "metadata": {},
   "outputs": [
    {
     "data": {
      "text/plain": [
       "3"
      ]
     },
     "execution_count": 31,
     "metadata": {},
     "output_type": "execute_result"
    }
   ],
   "source": [
    "min([3,4,5])"
   ]
  },
  {
   "cell_type": "code",
   "execution_count": 32,
   "id": "04d99312",
   "metadata": {},
   "outputs": [
    {
     "data": {
      "text/plain": [
       "5"
      ]
     },
     "execution_count": 32,
     "metadata": {},
     "output_type": "execute_result"
    }
   ],
   "source": [
    "max({3,4,5})"
   ]
  },
  {
   "cell_type": "markdown",
   "id": "ea03f885",
   "metadata": {},
   "source": [
    "### ASSIGNMENT\n",
    "\n",
    "Hi there!\n",
    "\n",
    "Could you quickly run these numbers for me?\n",
    "* What is the highest priced item we sell?\n",
    "* What is the lowest priced item we sell?\n",
    "* How much would it cost for a customer to purchase two of every item, rounded to the nearest dollar?\n",
    "\n",
    "Thanks in advance! (the price list is attached)"
   ]
  },
  {
   "cell_type": "code",
   "execution_count": 34,
   "id": "eb33a466",
   "metadata": {},
   "outputs": [],
   "source": [
    "price_list = [129.99, 99.99, 119.19, 99.99, 89.99, 79.99, 49.99]"
   ]
  },
  {
   "cell_type": "code",
   "execution_count": 37,
   "id": "4084e341",
   "metadata": {},
   "outputs": [
    {
     "name": "stdout",
     "output_type": "stream",
     "text": [
      "129.99 49.99\n"
     ]
    }
   ],
   "source": [
    "# What is the highest and lowest priced item we sell?\n",
    "highest_priced = max(price_list)\n",
    "lowest_priced = min(price_list)\n",
    "\n",
    "print(highest_priced, lowest_priced)"
   ]
  },
  {
   "cell_type": "code",
   "execution_count": 38,
   "id": "a83b2e26",
   "metadata": {},
   "outputs": [
    {
     "data": {
      "text/plain": [
       "1338"
      ]
     },
     "execution_count": 38,
     "metadata": {},
     "output_type": "execute_result"
    }
   ],
   "source": [
    "# How much would it cost for a customer to purchase two of every item, rounded to the nearest dollar?\n",
    "round(2* sum(price_list))"
   ]
  }
 ],
 "metadata": {
  "kernelspec": {
   "display_name": "Python 3 (ipykernel)",
   "language": "python",
   "name": "python3"
  },
  "language_info": {
   "codemirror_mode": {
    "name": "ipython",
    "version": 3
   },
   "file_extension": ".py",
   "mimetype": "text/x-python",
   "name": "python",
   "nbconvert_exporter": "python",
   "pygments_lexer": "ipython3",
   "version": "3.9.12"
  }
 },
 "nbformat": 4,
 "nbformat_minor": 5
}
