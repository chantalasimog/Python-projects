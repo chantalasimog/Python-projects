{
 "cells": [
  {
   "cell_type": "markdown",
   "id": "54c88ca9",
   "metadata": {},
   "source": [
    "# FUNCTIONS\n",
    "\n",
    "In this section we’ll learn to write custom functions to boost efficiency, import external functions stored in modules or packages, and write comprehensions\n",
    "\n",
    "* **Functions** are reusable blocks of code that perform specific tasks when called\n",
    "* They take in data, perform a set of actions, and return a result\n",
    "\n",
    "`INPUT -> FUNCTION -> OUTPUT/SIDE EFFECTS`\n",
    "\n",
    "1. INPUT \n",
    "    * Inputs to a function are known as arguments\n",
    "    * Data, is some form, is usually one of the arguments passed into a function\n",
    "    * Other arguments might be options for processing the data or formatting the output\n",
    "2. FUNCTION\n",
    "    * Functions are blocks of code that perform a specific task\n",
    "    * When you use a function, it is known as a **function call**, or **calling a function**\n",
    "    * The function itself is stored somewhere else, and you are ‘calling’ it by using its name\n",
    "3. OUTPUT\n",
    "    * Outputs are values returned by a function\n",
    "3. SIDE EFFECTS\n",
    "    * Side effects are changes or actions made by the function, other than the output\n",
    "    \n",
    "    \n",
    "    \n",
    "**EXAMPLE**\n",
    "The built-in max() function works the same way (as do others like len(), sum(), etc.)\n",
    "PRICE_LIST = [1,2,3,4,5]\n",
    "\n",
    "Input = PRICE_LIST\n",
    "Function = Identifies the largest value in price_list\n",
    "Output = 5\n",
    "Side Effects = None"
   ]
  },
  {
   "cell_type": "markdown",
   "id": "52161403",
   "metadata": {},
   "source": [
    "## DEFINING A FUNCTION\n",
    "\n",
    "`def function_name (arguments):\n",
    "     do this\n",
    "     return output`\n",
    "* def - Indicates you’re defining a new function\n",
    "* function - An intuitive name to call you function by\n",
    "* arguments - Variable names for the function inputs, separated by commas\n",
    "* return - Ends the function (without it, the function returns None)\n",
    "* output - Values to return"
   ]
  },
  {
   "cell_type": "code",
   "execution_count": 1,
   "id": "2aabf40c",
   "metadata": {},
   "outputs": [
    {
     "data": {
      "text/plain": [
       "'Hello Word'"
      ]
     },
     "execution_count": 1,
     "metadata": {},
     "output_type": "execute_result"
    }
   ],
   "source": [
    "def concatenator(string1, string2): # Deine la función creada \n",
    "    combined_string = string1 + ' ' + string2\n",
    "    return combined_string\n",
    "\n",
    "concatenator('Hello', 'Word')"
   ]
  },
  {
   "cell_type": "code",
   "execution_count": 2,
   "id": "d15236ac",
   "metadata": {},
   "outputs": [],
   "source": [
    "# Note that we don’t need a code block before return, here we’re combining strings in the return statement\n",
    "def concatenator(string1, string2):\n",
    "    return string1 + ' ' + string2"
   ]
  },
  {
   "cell_type": "markdown",
   "id": "0d8b854a",
   "metadata": {},
   "source": [
    "You should take time to define a function when:\n",
    "* You find yourself copying & pasting a block of code repeatedly\n",
    "* You know you will use a block of code again in the future \n",
    "* You want to share a useful piece of logic with others\n",
    "* You want to make a complex program more readable\n"
   ]
  },
  {
   "cell_type": "markdown",
   "id": "296cb030",
   "metadata": {},
   "source": [
    "### ASSIGNMENT: DEFINING A FUNCTION\n",
    "\n",
    "Good morning,\n",
    "\n",
    "We want to expand the work you’ve done on sales tax to all our stores, which requires a function to account for changes to taxes or expansion into new states.\n",
    "\n",
    "Write a function that takes a given subtotal and tax rate, and returns the total amount owed (subtotal plus tax).\n",
    "\n",
    "Thanks in advance!"
   ]
  },
  {
   "cell_type": "code",
   "execution_count": 10,
   "id": "c44673e3",
   "metadata": {},
   "outputs": [],
   "source": [
    "def tax_calculator(subtotal, sales_tax):\n",
    "    total = subtotal + (subtotal * sales_tax)\n",
    "    return total"
   ]
  },
  {
   "cell_type": "code",
   "execution_count": 11,
   "id": "8addd0a0",
   "metadata": {},
   "outputs": [
    {
     "data": {
      "text/plain": [
       "109.0"
      ]
     },
     "execution_count": 11,
     "metadata": {},
     "output_type": "execute_result"
    }
   ],
   "source": [
    "tax_calculator(100, .09)"
   ]
  },
  {
   "cell_type": "markdown",
   "id": "67314e71",
   "metadata": {},
   "source": [
    "## ARGUMENT TYPES\n",
    "\n",
    "There are several types of arguments that can be passed on to a function:\n",
    "* Positional arguments are passed in the order they were defined in the function\n",
    "* Keyword arguments are passed in any order by using the argument’s name\n",
    "* Default arguments pass a preset value if nothing is passed in the function call\n",
    "* `*args` arguments pass any number of positional arguments as tuples\n",
    "* `**kwargs` arguments pass any number of keyword arguments as dictionaries\n"
   ]
  },
  {
   "cell_type": "code",
   "execution_count": 13,
   "id": "4813504f",
   "metadata": {},
   "outputs": [
    {
     "data": {
      "text/plain": [
       "'Hello World'"
      ]
     },
     "execution_count": 13,
     "metadata": {},
     "output_type": "execute_result"
    }
   ],
   "source": [
    "# Positional arguments are passed in the order they were defined in the function\n",
    "def concatenator(string1, string2):\n",
    "    return string1 + ' ' + string2\n",
    "concatenator('Hello', 'World')"
   ]
  },
  {
   "cell_type": "code",
   "execution_count": 14,
   "id": "aa43afc5",
   "metadata": {},
   "outputs": [
    {
     "data": {
      "text/plain": [
       "'Hello World'"
      ]
     },
     "execution_count": 14,
     "metadata": {},
     "output_type": "execute_result"
    }
   ],
   "source": [
    "# Keyword arguments are passed in any order by using the argument’s name\n",
    "concatenator(string2='World', string1='Hello')"
   ]
  },
  {
   "cell_type": "code",
   "execution_count": 16,
   "id": "cb4b7d0e",
   "metadata": {},
   "outputs": [
    {
     "data": {
      "text/plain": [
       "'Hola Mundo'"
      ]
     },
     "execution_count": 16,
     "metadata": {},
     "output_type": "execute_result"
    }
   ],
   "source": [
    "# Default arguments pass a preset value if nothing is passed in the function call\n",
    "def concatenator(string1, string2='World!'):\n",
    "    return string1 + ' ' + string2\n",
    "concatenator('Hola','Mundo')"
   ]
  },
  {
   "cell_type": "code",
   "execution_count": 28,
   "id": "988b0c7f",
   "metadata": {},
   "outputs": [],
   "source": [
    "# *args arguments pass any number of positional arguments as tuples\n",
    "def concatenator(*words):\n",
    "    new_string = ''\n",
    "    for word in words:\n",
    "        new_string += (word + ' ')\n",
    "    return new_string.rstrip()"
   ]
  },
  {
   "cell_type": "code",
   "execution_count": 29,
   "id": "9c7d7389",
   "metadata": {},
   "outputs": [
    {
     "data": {
      "text/plain": [
       "'Hello world'"
      ]
     },
     "execution_count": 29,
     "metadata": {},
     "output_type": "execute_result"
    }
   ],
   "source": [
    "concatenator('Hello','world')"
   ]
  },
  {
   "cell_type": "code",
   "execution_count": 33,
   "id": "da9df5d1",
   "metadata": {},
   "outputs": [],
   "source": [
    "# **kwargs arguments pass any number of keyword arguments as dictionaries\n",
    "def concatenator(**words):\n",
    "    new_string = ''\n",
    "    for word in words.values():\n",
    "        new_string += (word + ' ')\n",
    "    return new_string.rstrip()"
   ]
  },
  {
   "cell_type": "code",
   "execution_count": 34,
   "id": "f593245a",
   "metadata": {},
   "outputs": [
    {
     "data": {
      "text/plain": [
       "'Hello there! Whats up?'"
      ]
     },
     "execution_count": 34,
     "metadata": {},
     "output_type": "execute_result"
    }
   ],
   "source": [
    "concatenator(a='Hello', b=\"there!\", c='Whats', d='up?')"
   ]
  },
  {
   "cell_type": "code",
   "execution_count": 35,
   "id": "45555739",
   "metadata": {},
   "outputs": [],
   "source": [
    "def concatenator(*words):\n",
    "    sentence = ''\n",
    "    for word in words:\n",
    "        sentence += word + ' '\n",
    "    last_word = words[-1]\n",
    "    return sentence.rstrip(), last_word"
   ]
  },
  {
   "cell_type": "code",
   "execution_count": 36,
   "id": "6de63672",
   "metadata": {
    "scrolled": true
   },
   "outputs": [
    {
     "name": "stdout",
     "output_type": "stream",
     "text": [
      "Hello world! How are you?\n",
      "you?\n"
     ]
    }
   ],
   "source": [
    "sentence, last_word = concatenator('Hello', 'world!', 'How', 'are', 'you?')\n",
    "print(sentence)\n",
    "print(last_word)"
   ]
  },
  {
   "cell_type": "code",
   "execution_count": 37,
   "id": "27db1684",
   "metadata": {},
   "outputs": [
    {
     "data": {
      "text/plain": [
       "('Hello world! How are you?', 'you?')"
      ]
     },
     "execution_count": 37,
     "metadata": {},
     "output_type": "execute_result"
    }
   ],
   "source": [
    "concatenator('Hello', 'world!', 'How', 'are', 'you?') # This returns a tuple of the specified values"
   ]
  },
  {
   "cell_type": "markdown",
   "id": "32e9b6c6",
   "metadata": {},
   "source": [
    "### VARIABLE SCOPE\n",
    "\n",
    "The variable scope is the region of the code where the variable was assigned\n",
    "1. Local scope – variables created inside of a function \n",
    "    * These cannot be referenced outside of the function\n",
    "2. Global scope – variables created outside of functions\n",
    "    * These can be referenced both inside and outside of functions"
   ]
  },
  {
   "cell_type": "code",
   "execution_count": 39,
   "id": "6cfee57c",
   "metadata": {},
   "outputs": [
    {
     "name": "stdout",
     "output_type": "stream",
     "text": [
      "Hello world! How are you? \n"
     ]
    }
   ],
   "source": [
    "# You can change variable scope by using the global keyword\n",
    "def concatenator(*words):\n",
    "    global sentence\n",
    "    sentence = ''\n",
    "    for word in words:\n",
    "        sentence += word + ' '\n",
    "    last_word = words[-1]\n",
    "    return sentence.rstrip(), last_word\n",
    "\n",
    "concatenator('Hello', 'world!', 'How', 'are', 'you?')\n",
    "print(sentence)"
   ]
  },
  {
   "cell_type": "markdown",
   "id": "5ed9d2da",
   "metadata": {},
   "source": [
    "### CREATING MODULES\n",
    "\n",
    "To save your functions, create a module in Jupyter by using the %%writefile magic command and the .py extension"
   ]
  },
  {
   "cell_type": "markdown",
   "id": "69c532ce",
   "metadata": {},
   "source": [
    "#This creates a Python module that you can import functions from\n",
    "\n",
    "%%writefile saved_functions.py # Follow %%writefile with the name of the file and the .py extension\n",
    "\n",
    "def concatenator(*words):\n",
    "    sentence: ''\n",
    "    for word in words:\n",
    "        sentence += word + ' '\n",
    "    last_word = words[-1]\n",
    "    return sentence.rstrip(), last_word\n",
    "\n",
    "def multiplier(num1, num2): #Multiple functions can be saved to the same module\n",
    "    return num1 * num2"
   ]
  },
  {
   "cell_type": "markdown",
   "id": "5dcc9652",
   "metadata": {},
   "source": [
    "### IMPORTING MODULES\n",
    "\n",
    "To import saved functions, you can either import the entire module or import specific functions from the module"
   ]
  },
  {
   "cell_type": "code",
   "execution_count": null,
   "id": "764fed03",
   "metadata": {},
   "outputs": [],
   "source": [
    "import saved_function #import module\n",
    "\n",
    "saved_function.concatenator('Hello', 'Word')\n",
    "saved_function.multiplier(5, 10)"
   ]
  },
  {
   "cell_type": "code",
   "execution_count": null,
   "id": "70b95093",
   "metadata": {},
   "outputs": [],
   "source": [
    "from saved_function import concatenator, multiplier # imports specific functions from modules"
   ]
  },
  {
   "cell_type": "markdown",
   "id": "2fdd98e6",
   "metadata": {},
   "source": [
    "### ASSIGNMENT: CREATING A MODULE\n",
    "\n",
    "Hey again,\n",
    "Can you make the following changes to our sales tax calculator?\n",
    "1. Since we’ve created this calculator for Stowe employees, set the default sales tax to 6%\n",
    "2. We want the function to return subtotal, tax and sales tax in a list\n",
    "3. Save this function to tax_calculator.py\n",
    "\n",
    "Thanks!"
   ]
  },
  {
   "cell_type": "code",
   "execution_count": 4,
   "id": "b8b25167",
   "metadata": {},
   "outputs": [],
   "source": [
    "def tax_calculator(subtotal, sales_tax=.06):\n",
    "    tax = round(subtotal * sales_tax, 2)\n",
    "    total = round(subtotal + tax, 2)\n",
    "    return [subtotal, tax, total]"
   ]
  },
  {
   "cell_type": "code",
   "execution_count": 5,
   "id": "b1b18310",
   "metadata": {},
   "outputs": [
    {
     "data": {
      "text/plain": [
       "[100, 6.0, 106.0]"
      ]
     },
     "execution_count": 5,
     "metadata": {},
     "output_type": "execute_result"
    }
   ],
   "source": [
    "tax_calculator(100)"
   ]
  },
  {
   "cell_type": "markdown",
   "id": "f666bc35",
   "metadata": {},
   "source": [
    "### ASSIGNMENT: IMPORTING A MODULE\n",
    "Hey again,\n",
    "\n",
    "Now that you’ve updated and saved the function, can you import it, pass a list of transactions through, and create a list containing the transaction information for each?\n",
    "\n",
    "Once you’ve done that, I’d like you to create a dictionary with the supplied customer IDs as keys and the transaction information as values.\n",
    "\n",
    "Thanks!"
   ]
  },
  {
   "cell_type": "code",
   "execution_count": 7,
   "id": "fabe1880",
   "metadata": {},
   "outputs": [
    {
     "data": {
      "text/plain": [
       "[[15.98, 0.96, 16.94],\n",
       " [899.97, 54.0, 953.97],\n",
       " [799.97, 48.0, 847.97],\n",
       " [117.96, 7.08, 125.04],\n",
       " [5.99, 0.36, 6.35],\n",
       " [599.99, 36.0, 635.99]]"
      ]
     },
     "execution_count": 7,
     "metadata": {},
     "output_type": "execute_result"
    }
   ],
   "source": [
    "# from tax_calculator import tax_calculator\n",
    "\n",
    "subtotals = [15.98, 899.97, 799.97, 117.96, 5.99, 599.99]\n",
    "full_transactions = []\n",
    "\n",
    "for subtotal in subtotals:\n",
    "    full_transactions.append(tax_calculator(subtotal))\n",
    "full_transactions"
   ]
  },
  {
   "cell_type": "code",
   "execution_count": 8,
   "id": "f8fa6119",
   "metadata": {},
   "outputs": [
    {
     "data": {
      "text/plain": [
       "{'C00004': [15.98, 0.96, 16.94],\n",
       " 'C00007': [899.97, 54.0, 953.97],\n",
       " 'C00015': [799.97, 48.0, 847.97],\n",
       " 'C00016': [117.96, 7.08, 125.04],\n",
       " 'C00020': [5.99, 0.36, 6.35],\n",
       " 'C00010': [599.99, 36.0, 635.99]}"
      ]
     },
     "execution_count": 8,
     "metadata": {},
     "output_type": "execute_result"
    }
   ],
   "source": [
    "customer_ids = ['C00004', 'C00007', 'C00015', 'C00016', 'C00020', 'C00010']\n",
    "customer_dict = dict(zip(customer_ids, full_transactions))\n",
    "\n",
    "customer_dict"
   ]
  },
  {
   "cell_type": "markdown",
   "id": "859360b1",
   "metadata": {},
   "source": [
    "## IMPORTING EXTERNAL FUNCTIONS\n",
    "\n",
    "The same method used to import your own modules can be used to import external modules, packages, and libraries\n",
    "* Modules are individual .py files\n",
    "* Packages are collections of modules\n",
    "* Libraries are collections of packages (library and package are often used interchangeably)"
   ]
  },
  {
   "cell_type": "code",
   "execution_count": null,
   "id": "e4d7770e",
   "metadata": {},
   "outputs": [],
   "source": [
    "dir(saved_functions) # Use the dir() function to view the contents for any of the above"
   ]
  },
  {
   "cell_type": "code",
   "execution_count": 10,
   "id": "2ec36ebd",
   "metadata": {},
   "outputs": [
    {
     "data": {
      "text/plain": [
       "9.0"
      ]
     },
     "execution_count": 10,
     "metadata": {},
     "output_type": "execute_result"
    }
   ],
   "source": [
    "# IMPORTING EXTERNAL FUNCTIONS\n",
    "import math \n",
    "dir(math)\n",
    "\n",
    "math.sqrt(81)"
   ]
  },
  {
   "cell_type": "code",
   "execution_count": null,
   "id": "09b3ea6a",
   "metadata": {},
   "outputs": [],
   "source": [
    "!conda list # conda list returns a list of installed packages and versions"
   ]
  },
  {
   "cell_type": "code",
   "execution_count": null,
   "id": "79ac7c1e",
   "metadata": {},
   "outputs": [],
   "source": [
    "import sys\n",
    "\n",
    "!conda install --yes --prefix {sys.prefix} openpyxl"
   ]
  },
  {
   "cell_type": "code",
   "execution_count": 16,
   "id": "bf44a1d3",
   "metadata": {},
   "outputs": [
    {
     "name": "stdout",
     "output_type": "stream",
     "text": [
      "Collecting package metadata (current_repodata.json): done\n",
      "Solving environment: failed with initial frozen solve. Retrying with flexible solve.\n",
      "Collecting package metadata (repodata.json): done\n",
      "Solving environment: failed with initial frozen solve. Retrying with flexible solve.\n",
      "\n",
      "PackagesNotFoundError: The following packages are not available from current channels:\n",
      "\n",
      "  - package_name-1.2.3\n",
      "\n",
      "Current channels:\n",
      "\n",
      "  - https://repo.anaconda.com/pkgs/main/osx-64\n",
      "  - https://repo.anaconda.com/pkgs/main/noarch\n",
      "  - https://repo.anaconda.com/pkgs/r/osx-64\n",
      "  - https://repo.anaconda.com/pkgs/r/noarch\n",
      "\n",
      "To search for alternate channels that may provide the conda package you're\n",
      "looking for, navigate to\n",
      "\n",
      "    https://anaconda.org\n",
      "\n",
      "and use the search bar at the top of the page.\n",
      "\n",
      "\n"
     ]
    }
   ],
   "source": [
    "!conda install --yes --prefix {sys.prefix} package_name-1.2.3"
   ]
  },
  {
   "cell_type": "code",
   "execution_count": 17,
   "id": "7f976ae1",
   "metadata": {},
   "outputs": [],
   "source": [
    "# The map() function is an efficient way to apply a function to all items in an iterable\n",
    "\n",
    "def currency_formatter(number):\n",
    "    return '$' + str(number)"
   ]
  },
  {
   "cell_type": "code",
   "execution_count": 19,
   "id": "4e53d407",
   "metadata": {},
   "outputs": [
    {
     "data": {
      "text/plain": [
       "['$5.99', '$19.99', '$24.99', '$0', '$74.99', '$99.99']"
      ]
     },
     "execution_count": 19,
     "metadata": {},
     "output_type": "execute_result"
    }
   ],
   "source": [
    "price_list =[5.99, 19.99, 24.99, 0, 74.99, 99.99]\n",
    "list(map(currency_formatter, price_list))"
   ]
  },
  {
   "cell_type": "markdown",
   "id": "ae2deeb4",
   "metadata": {},
   "source": [
    "### ASSIGNMENT: MAP\n",
    "Hey again,\n",
    "\n",
    "We’re really making some great progress on implementing Python – can you import the tax calculator and apply it to the newest list of transactions?\n",
    "\n",
    "Don’t use a for loop! Thanks!"
   ]
  },
  {
   "cell_type": "code",
   "execution_count": 21,
   "id": "3cc6e0ee",
   "metadata": {},
   "outputs": [
    {
     "data": {
      "text/plain": [
       "[[1799.94, 108.0, 1907.94],\n",
       " [99.99, 6.0, 105.99],\n",
       " [254.95, 15.3, 270.25],\n",
       " [29.98, 1.8, 31.78],\n",
       " [99.99, 6.0, 105.99]]"
      ]
     },
     "execution_count": 21,
     "metadata": {},
     "output_type": "execute_result"
    }
   ],
   "source": [
    "#from tax_calculator import tax_calculator\n",
    "subtotals = [1799.94, 99.99, 254.95, 29.98, 99.99]\n",
    "list(map(tax_calculator, subtotals))"
   ]
  },
  {
   "cell_type": "markdown",
   "id": "79fe6b1b",
   "metadata": {},
   "source": [
    "## LAMBDA FUNCTIONS\n",
    "\n",
    "Lambda functions are single line, anonymous functions that are only used briefly\n",
    "* `lambda arguments: expression`"
   ]
  },
  {
   "cell_type": "code",
   "execution_count": 22,
   "id": "281af6a5",
   "metadata": {},
   "outputs": [
    {
     "data": {
      "text/plain": [
       "9"
      ]
     },
     "execution_count": 22,
     "metadata": {},
     "output_type": "execute_result"
    }
   ],
   "source": [
    "(lambda x: x**2)(3) #Lambda functions can be called on a single value, but typically aren’t used for this"
   ]
  },
  {
   "cell_type": "code",
   "execution_count": 23,
   "id": "a43d38ba",
   "metadata": {},
   "outputs": [
    {
     "data": {
      "text/plain": [
       "1.2"
      ]
     },
     "execution_count": 23,
     "metadata": {},
     "output_type": "execute_result"
    }
   ],
   "source": [
    "(lambda x, y: x* y if y> 5 else x/y) (6,5)"
   ]
  },
  {
   "cell_type": "code",
   "execution_count": 24,
   "id": "ac21ae5a",
   "metadata": {},
   "outputs": [
    {
     "data": {
      "text/plain": [
       "[5.27, 17.59, 21.99, 0.0, 65.99, 87.99]"
      ]
     },
     "execution_count": 24,
     "metadata": {},
     "output_type": "execute_result"
    }
   ],
   "source": [
    "price_list =[5.99, 19.99, 24.99, 0, 74.99, 99.99]\n",
    "exchange_rate = 0.88\n",
    "\n",
    "converted = map(lambda x: round(x * exchange_rate, 2),price_list)\n",
    "list(converted)"
   ]
  },
  {
   "cell_type": "markdown",
   "id": "938ce84d",
   "metadata": {},
   "source": [
    "### ASSIGNMENT: LAMBDA FUNCTIONS\n",
    "Hey,\n",
    "\n",
    "We need to apply a 10% discount for customers who purchased more than $500 worth of product – they’re starting to complain it hasn’t been applied.\n",
    "\n",
    "This is a one-time promotion, so can you code up something quick?\n",
    "\n",
    "We won’t reuse it. Thanks!"
   ]
  },
  {
   "cell_type": "code",
   "execution_count": 25,
   "id": "33c37382",
   "metadata": {},
   "outputs": [
    {
     "data": {
      "text/plain": [
       "[15.98, 809.97, 719.97, 117.96, 5.99, 539.99]"
      ]
     },
     "execution_count": 25,
     "metadata": {},
     "output_type": "execute_result"
    }
   ],
   "source": [
    "subtotals = [15.98, 899.97, 799.97, 117.96, 5.99, 599.99]\n",
    "\n",
    "discounted_subtotals = list(map(lambda subtotal: round(subtotal * 0.9, 2) if subtotal > 500 else subtotal, subtotals,))\n",
    "discounted_subtotals"
   ]
  },
  {
   "cell_type": "markdown",
   "id": "fecbcbdd",
   "metadata": {},
   "source": [
    "## PRO TIP: COMPREHENSIONS\n",
    "\n",
    "Comprehensions can generate sequences from other sequences\n",
    "* new_list = `[expression for member in other_iterable (if condition)]`"
   ]
  },
  {
   "cell_type": "code",
   "execution_count": 29,
   "id": "0ca28dce",
   "metadata": {},
   "outputs": [
    {
     "data": {
      "text/plain": [
       "[5.27, 17.59, 21.99, 0.0, 65.99, 87.99]"
      ]
     },
     "execution_count": 29,
     "metadata": {},
     "output_type": "execute_result"
    }
   ],
   "source": [
    "# Before, you needed a for loop to create the new list\n",
    "# Now, you can use comprehensions to do this with a single line of code\n",
    "\n",
    "exchange_rate = 0.88\n",
    "usd_list =[5.99, 19.99, 24.99, 0, 74.99, 99.99]\n",
    "\n",
    "euro_list = [round(price * exchange_rate, 2) for price in usd_list]\n",
    "euro_list"
   ]
  },
  {
   "cell_type": "markdown",
   "id": "700beca0",
   "metadata": {},
   "source": [
    "### ASSIGNMENT: COMPREHENSIONS\n",
    "\n",
    "Hi there,\n",
    "\n",
    "I’m working on some numbers for our European expansion. Can you help me calculate the combined cost of all of our European items?\n",
    "\n",
    "The data is stored in the euro_data dictionary. Thanks!"
   ]
  },
  {
   "cell_type": "code",
   "execution_count": 32,
   "id": "9f2ba951",
   "metadata": {},
   "outputs": [],
   "source": [
    "# Data for dictionary - run this cell and the following to create it\n",
    "item_ids = [\n",
    "    10001, 10002, 10003, 10004, 10005, \n",
    "    10006, 10007, 10008, 10009]\n",
    "\n",
    "item_names = [\n",
    "    \"Coffee\", \"Beanie\", \"Gloves\", \"Sweatshirt\", \"Helmet\",\n",
    "    \"Snow Pants\", \"Coat\", \"Ski Poles\", \"Ski Boots\"]\n",
    "\n",
    "euro_prices = [\n",
    "    5.27, 8.79, 17.59, 21.99, 87.99, \n",
    "    70.39, 105.59, 87.99, 175.99]\n",
    "\n",
    "item_category = [\n",
    "    \"beverage\", \"clothing\", \"clothing\", \"clothing\", \"safety\",\n",
    "    \"clothing\", \"clothing\", \"hardware\", \"hardware\",]\n",
    "\n",
    "sizes = [\n",
    "    [\"250mL\"],\n",
    "    [\"Child\", \"Adult\"],\n",
    "    [\"Child\", \"Adult\"],\n",
    "    [\"XS\", \"S\", \"M\", \"L\", \"XL\", \"XXL\"],\n",
    "    [\"Child\", \"Adult\"],\n",
    "    [\"XS\", \"S\", \"M\", \"L\", \"XL\", \"XXL\"],\n",
    "    [\"S\", \"M\", \"L\"],\n",
    "    [\"S\", \"M\", \"L\"],\n",
    "    [5, 6, 7, 8, 9, 10, 11],\n",
    "    [\"S\", \"M\", \"L\"],\n",
    "    [5, 6, 7, 8, 9, 10, 11],\n",
    "    [\"NA\"],\n",
    "    [\"S\", \"M\", \"L\", \"Powder\"],]"
   ]
  },
  {
   "cell_type": "code",
   "execution_count": 31,
   "id": "ce23d0ea",
   "metadata": {},
   "outputs": [
    {
     "data": {
      "text/plain": [
       "{10001: ['Coffee', 5.27, 'beverage', ['250mL']],\n",
       " 10002: ['Beanie', 8.79, 'clothing', ['Child', 'Adult']],\n",
       " 10003: ['Gloves', 17.59, 'clothing', ['Child', 'Adult']],\n",
       " 10004: ['Sweatshirt', 21.99, 'clothing', ['XS', 'S', 'M', 'L', 'XL', 'XXL']],\n",
       " 10005: ['Helmet', 87.99, 'safety', ['Child', 'Adult']],\n",
       " 10006: ['Snow Pants', 70.39, 'clothing', ['XS', 'S', 'M', 'L', 'XL', 'XXL']],\n",
       " 10007: ['Coat', 105.59, 'clothing', ['S', 'M', 'L']],\n",
       " 10008: ['Ski Poles', 87.99, 'hardware', ['S', 'M', 'L']],\n",
       " 10009: ['Ski Boots', 175.99, 'hardware', [5, 6, 7, 8, 9, 10, 11]]}"
      ]
     },
     "execution_count": 31,
     "metadata": {},
     "output_type": "execute_result"
    }
   ],
   "source": [
    "# This is a dictionary comprehension\n",
    "# We'll see an example after this assignment!\n",
    "\n",
    "euro_data = {\n",
    "    item_id: [name, price, category, sizes]\n",
    "    for item_id, name, price, category, sizes in zip(\n",
    "        item_ids, item_names, euro_prices, item_category, sizes)}\n",
    "euro_data"
   ]
  },
  {
   "cell_type": "markdown",
   "id": "228f3834",
   "metadata": {},
   "source": [
    "### ASSIGNMENT: DICTIONARY COMPREHENSIONS\n",
    "\n",
    "Hey there,\n",
    "\n",
    "We’re getting close to having a final ETL process for our European dictionary. Can you create a function that applies our tax calculator to a list of subtotals and matches the output up with customer_IDs?\n",
    "\n",
    "Store them in a dictionary, with customer IDs as keys, and the transactions as values.\n",
    "\n",
    "Thanks – we’re getting close to implementing this!"
   ]
  },
  {
   "cell_type": "code",
   "execution_count": 33,
   "id": "8f95d0ac",
   "metadata": {},
   "outputs": [],
   "source": [
    "#from tax_calculator import tax_calculator\n",
    "customer_ids = ['C00004', 'C00007\", \"C00015', 'C00016', 'C00020', 'C00010']\n",
    "subtotals = [15.98, 899.97, 799.97, 117.96, 5.99, 599.99]"
   ]
  },
  {
   "cell_type": "code",
   "execution_count": 37,
   "id": "a51d1aed",
   "metadata": {},
   "outputs": [],
   "source": [
    "def transaction_dict_creator(customer_ids, subtotals, tax_rate):\n",
    "    customer_dict = {\n",
    "        customer_id: tax_calculator(subtotal, tax_rate)\n",
    "        for customer_id, subtotal in zip(customer_ids, subtotals)}\n",
    "    return customer_dict"
   ]
  },
  {
   "cell_type": "code",
   "execution_count": 38,
   "id": "cfafedac",
   "metadata": {},
   "outputs": [
    {
     "data": {
      "text/plain": [
       "{'C00004': [15.98, 1.28, 17.26],\n",
       " 'C00007\", \"C00015': [899.97, 72.0, 971.97],\n",
       " 'C00016': [799.97, 64.0, 863.97],\n",
       " 'C00020': [117.96, 9.44, 127.4],\n",
       " 'C00010': [5.99, 0.48, 6.47]}"
      ]
     },
     "execution_count": 38,
     "metadata": {},
     "output_type": "execute_result"
    }
   ],
   "source": [
    "transaction_dict_creator(customer_ids, subtotals, .08)"
   ]
  }
 ],
 "metadata": {
  "kernelspec": {
   "display_name": "Python 3 (ipykernel)",
   "language": "python",
   "name": "python3"
  },
  "language_info": {
   "codemirror_mode": {
    "name": "ipython",
    "version": 3
   },
   "file_extension": ".py",
   "mimetype": "text/x-python",
   "name": "python",
   "nbconvert_exporter": "python",
   "pygments_lexer": "ipython3",
   "version": "3.9.12"
  }
 },
 "nbformat": 4,
 "nbformat_minor": 5
}
