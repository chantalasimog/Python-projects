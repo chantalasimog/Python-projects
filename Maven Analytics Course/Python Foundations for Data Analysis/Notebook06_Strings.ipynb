{
 "cells": [
  {
   "cell_type": "markdown",
   "id": "6c2fe7cf",
   "metadata": {},
   "source": [
    "# Strings \n",
    "\n",
    "In this section we’ll review the fundamentals of strings, a date type used to store text, and cover functions and methods to manipulate them\n",
    "\n",
    "## STRING BASICS\n",
    "Strings are sequences of character data commonly used to store text\n",
    "You can create a string by using quotation marks, or converting from numbers:"
   ]
  },
  {
   "cell_type": "code",
   "execution_count": 1,
   "id": "e4f6374a",
   "metadata": {},
   "outputs": [
    {
     "data": {
      "text/plain": [
       "'This is a \"string\".'"
      ]
     },
     "execution_count": 1,
     "metadata": {},
     "output_type": "execute_result"
    }
   ],
   "source": [
    "# Single \n",
    "new_string = 'This is a \"string\".'\n",
    "new_string"
   ]
  },
  {
   "cell_type": "code",
   "execution_count": 2,
   "id": "6f364def",
   "metadata": {},
   "outputs": [
    {
     "data": {
      "text/plain": [
       "\"Double quotes allow us to use ' inside.\""
      ]
     },
     "execution_count": 2,
     "metadata": {},
     "output_type": "execute_result"
    }
   ],
   "source": [
    "# Double \n",
    "newer_string = \"Double quotes allow us to use ' inside.\"\n",
    "newer_string"
   ]
  },
  {
   "cell_type": "code",
   "execution_count": 5,
   "id": "2f7481f7",
   "metadata": {},
   "outputs": [
    {
     "name": "stdout",
     "output_type": "stream",
     "text": [
      "Triple quotes allow us to \n",
      "write multiline string. we also don't\n",
      "have to worry about \"error\" due to using \n",
      "single or double quotes.\n",
      "\n"
     ]
    }
   ],
   "source": [
    "# Triple \n",
    "newerer_string = '''Triple quotes allow us to \n",
    "write multiline string. we also don't\n",
    "have to worry about \"error\" due to using \n",
    "single or double quotes.\n",
    "'''\n",
    "print(newerer_string)"
   ]
  },
  {
   "cell_type": "markdown",
   "id": "f9f997bb",
   "metadata": {},
   "source": [
    "## STRING ARITHMETIC\n",
    "\n",
    "Some arithmetic operators are compatible with strings\n",
    "You can concatenate strings using +"
   ]
  },
  {
   "cell_type": "code",
   "execution_count": 6,
   "id": "260130e4",
   "metadata": {},
   "outputs": [
    {
     "data": {
      "text/plain": [
       "'Snowboard'"
      ]
     },
     "execution_count": 6,
     "metadata": {},
     "output_type": "execute_result"
    }
   ],
   "source": [
    "'Snow' + 'board'"
   ]
  },
  {
   "cell_type": "code",
   "execution_count": 8,
   "id": "14bd4ae1",
   "metadata": {},
   "outputs": [
    {
     "data": {
      "text/plain": [
       "'My Maven snowbaord cost $22.55!'"
      ]
     },
     "execution_count": 8,
     "metadata": {},
     "output_type": "execute_result"
    }
   ],
   "source": [
    "subject = 'My'\n",
    "noun = 'Maven snowbaord'\n",
    "verb = 'cost'\n",
    "price =22.55\n",
    "\n",
    "subject + ' ' + noun  + ' ' + verb  + ' $' + str(price) + '!'"
   ]
  },
  {
   "cell_type": "code",
   "execution_count": 9,
   "id": "cf37a5b9",
   "metadata": {},
   "outputs": [
    {
     "data": {
      "text/plain": [
       "\"Repeat 3 times: I will not steal my coworker's pen!I will not steal my coworker's pen!I will not steal my coworker's pen!\""
      ]
     },
     "execution_count": 9,
     "metadata": {},
     "output_type": "execute_result"
    }
   ],
   "source": [
    "# You can repeat strings using *\n",
    "'Repeat 3 times: ' + (\"I will not steal my coworker's pen!\") * 3"
   ]
  },
  {
   "cell_type": "markdown",
   "id": "27c07686",
   "metadata": {},
   "source": [
    "## STRING INDEXING\n",
    "\n",
    "Strings, along with sequence data types, can be navigated via their index\n",
    "* Python is 0-indexed, which means that the first item in a sequence has an index of 0, not 1"
   ]
  },
  {
   "cell_type": "code",
   "execution_count": 10,
   "id": "adc4853e",
   "metadata": {},
   "outputs": [
    {
     "data": {
      "text/plain": [
       "'I'"
      ]
     },
     "execution_count": 10,
     "metadata": {},
     "output_type": "execute_result"
    }
   ],
   "source": [
    "message = 'I hope it snow tonight!'\n",
    "message[0] # String[0] returns the first character 'I'"
   ]
  },
  {
   "cell_type": "code",
   "execution_count": 11,
   "id": "6fab4e4d",
   "metadata": {
    "scrolled": true
   },
   "outputs": [
    {
     "data": {
      "text/plain": [
       "'!'"
      ]
     },
     "execution_count": 11,
     "metadata": {},
     "output_type": "execute_result"
    }
   ],
   "source": [
    "message[-1] # String[-1] returns the last character '!'"
   ]
  },
  {
   "cell_type": "markdown",
   "id": "3cff1ad4",
   "metadata": {},
   "source": [
    "### ASSIGNMENT: STRING INDEXING\n",
    "\n",
    "Hi there!\n",
    "\n",
    "I need your help deciphering a hidden message. Our previous intern created a complex password storage procedure.\n",
    "\n",
    "I’ve determined one of his passwords is ‘Maven’ , but what I’m interested in is the index of the letters used to spell ‘Maven’ in the attached text messages, as this will help unlock new passwords.\n",
    "\n",
    "Thanks in advance!"
   ]
  },
  {
   "cell_type": "code",
   "execution_count": 12,
   "id": "28a1e0da",
   "metadata": {},
   "outputs": [],
   "source": [
    "text1 = '          Your friend Mark'\n",
    "text2 = 'was'\n",
    "text3 = 'having'\n",
    "text4 = 'a great day'\n",
    "text5 = 'on the mountain'"
   ]
  },
  {
   "cell_type": "code",
   "execution_count": 20,
   "id": "aec4f808",
   "metadata": {},
   "outputs": [
    {
     "name": "stdout",
     "output_type": "stream",
     "text": [
      "The secret password is Maven\n"
     ]
    }
   ],
   "source": [
    "# Your code goes here - combine the letters in to a word and assign to the variable 'maven'\n",
    "maven = text1[-4] + text2[1] + text3[2] + text4[4] + text5[-1]\n",
    "\n",
    "print('The secret password is ' + maven)"
   ]
  },
  {
   "cell_type": "markdown",
   "id": "4b349225",
   "metadata": {},
   "source": [
    "## STRING SLICING\n",
    "\n",
    "Slicing returns multiple elements in a string, or sequence, via indexing\n",
    "`[start:stop:step size]`\n",
    "\n",
    "* start = Index value to start with (default is 0)\n",
    "* stop = Index value to stop at, not inclusive (default is all the values after the start)\n",
    "* step size = Amount to increment each subsequent index(default is 1)"
   ]
  },
  {
   "cell_type": "code",
   "execution_count": 22,
   "id": "beabe297",
   "metadata": {},
   "outputs": [
    {
     "data": {
      "text/plain": [
       "'I hope'"
      ]
     },
     "execution_count": 22,
     "metadata": {},
     "output_type": "execute_result"
    }
   ],
   "source": [
    "# Example \n",
    "message = 'I hope it snows tonight!'\n",
    "message[0:6:1]"
   ]
  },
  {
   "cell_type": "markdown",
   "id": "18a6e458",
   "metadata": {},
   "source": [
    "How does this code work?\n",
    "* Start: 0 – start with the first element in the string\n",
    "* Stop: 6 – stop at the seventh element (index of 6) in the string without including it\n",
    "* Step size: 1 – return every single element in the range"
   ]
  },
  {
   "cell_type": "code",
   "execution_count": 24,
   "id": "7aac0685",
   "metadata": {},
   "outputs": [
    {
     "data": {
      "text/plain": [
       "'hope'"
      ]
     },
     "execution_count": 24,
     "metadata": {},
     "output_type": "execute_result"
    }
   ],
   "source": [
    "message[2:6]"
   ]
  },
  {
   "cell_type": "markdown",
   "id": "e9e34273",
   "metadata": {},
   "source": [
    "How does this code work?\n",
    "* Start: 2 – start with the third element (index of 2) in the string\n",
    "* Stop: 6 – stop at the seventh element (index of 6) in the string without including it\n",
    "* Step size: 1 – return every single element in the range by default"
   ]
  },
  {
   "cell_type": "code",
   "execution_count": 25,
   "id": "57d65c96",
   "metadata": {},
   "outputs": [
    {
     "data": {
      "text/plain": [
       "' it snows tonight!'"
      ]
     },
     "execution_count": 25,
     "metadata": {},
     "output_type": "execute_result"
    }
   ],
   "source": [
    "message[6:]"
   ]
  },
  {
   "cell_type": "markdown",
   "id": "aeec27a9",
   "metadata": {},
   "source": [
    "How does this code work?\n",
    "* Start: 6 – start with the seventh element (index of 6) in the string\n",
    "* Stop: 25 – stop at the end of the string\n",
    "* Step size: 1 – return every single element in the range by default"
   ]
  },
  {
   "cell_type": "code",
   "execution_count": 26,
   "id": "ca13a07f",
   "metadata": {},
   "outputs": [
    {
     "data": {
      "text/plain": [
       "'!thginot swons ti epoh I'"
      ]
     },
     "execution_count": 26,
     "metadata": {},
     "output_type": "execute_result"
    }
   ],
   "source": [
    "message[::-1]"
   ]
  },
  {
   "cell_type": "markdown",
   "id": "10f11077",
   "metadata": {},
   "source": [
    "How does this code work?\n",
    "* Start: -1 – start with the last element in the string by default, due to the negative step size\n",
    "* Stop: -25 – stop at the beginning of the string\n",
    "* Step size: -1 – return every single element in the range, going backwards"
   ]
  },
  {
   "cell_type": "markdown",
   "id": "6d3820e6",
   "metadata": {},
   "source": [
    "### ASSIGNMENT: STRING SLICING\n",
    "Hi there!\n",
    "\n",
    "I need help drafting some copy.\n",
    "\n",
    "We have a long customer testimonial and I want to view several options for a good testimonial quote. The full details are in the file attached. \n",
    "\n",
    "Looking forward to working with you on this!"
   ]
  },
  {
   "cell_type": "code",
   "execution_count": 28,
   "id": "8ec4ad4a",
   "metadata": {},
   "outputs": [],
   "source": [
    "testimonial = '''I love skiing. It's my favorite hobby.\n",
    "Some people say, \"It's not a hobby, it's life.\"'''"
   ]
  },
  {
   "cell_type": "code",
   "execution_count": 29,
   "id": "8cbf9da5",
   "metadata": {},
   "outputs": [
    {
     "name": "stdout",
     "output_type": "stream",
     "text": [
      "I love skiing. It's my  life\n"
     ]
    }
   ],
   "source": [
    "# Short Testimonial\n",
    "short_testimonial = testimonial[0:23] + testimonial[-7:-2]\n",
    "\n",
    "print(short_testimonial)"
   ]
  },
  {
   "cell_type": "markdown",
   "id": "2d00b89a",
   "metadata": {},
   "source": [
    "## Indexing & Slicing \n",
    "\n",
    "The len() function returns the number of elements in an iterable"
   ]
  },
  {
   "cell_type": "code",
   "execution_count": 1,
   "id": "5b606b4c",
   "metadata": {},
   "outputs": [
    {
     "data": {
      "text/plain": [
       "9"
      ]
     },
     "execution_count": 1,
     "metadata": {},
     "output_type": "execute_result"
    }
   ],
   "source": [
    "# When used on a string, it returns the number of characters\n",
    "len('snowboard')"
   ]
  },
  {
   "cell_type": "code",
   "execution_count": 2,
   "id": "b8b7ab2e",
   "metadata": {},
   "outputs": [
    {
     "data": {
      "text/plain": [
       "3"
      ]
     },
     "execution_count": 2,
     "metadata": {},
     "output_type": "execute_result"
    }
   ],
   "source": [
    "# When used on a list, it returns the number of elements within it\n",
    "len(['beginner','enthusiast','pro'])"
   ]
  },
  {
   "cell_type": "markdown",
   "id": "feb60588",
   "metadata": {},
   "source": [
    "### ASSIGNMENT: STRING LENGTH\n",
    "\n",
    "Hi, great work last time!\n",
    "\n",
    "I can’t tell you much, but I have attached one more message for you to help me decode using Python.\n",
    "I think in this batch the length of each message represents the letter in the alphabet for each character in the password.\n",
    "\n",
    "Can you send me the password once you crack it? Thanks in advance!"
   ]
  },
  {
   "cell_type": "code",
   "execution_count": 3,
   "id": "6ae17007",
   "metadata": {},
   "outputs": [],
   "source": [
    "alphabet = 'abcdefghijklmnopqrstuvwxyz'\n",
    "message1 = 'Hello World!'\n",
    "message2 = ''\n",
    "message3 = 'It snowed a lot today'\n",
    "message4 = 'eeee'\n",
    "message5 = 'I love snow!!'"
   ]
  },
  {
   "cell_type": "markdown",
   "id": "bcad535f",
   "metadata": {},
   "source": [
    "## STRING METHODS\n",
    "\n",
    "Methods are functions that only apply to a specific data type or object \n",
    "\n",
    "We call them by following the object with a period then the method name"
   ]
  },
  {
   "cell_type": "code",
   "execution_count": 5,
   "id": "c30fb997",
   "metadata": {},
   "outputs": [
    {
     "data": {
      "text/plain": [
       "'I hope it rains tonight!'"
      ]
     },
     "execution_count": 5,
     "metadata": {},
     "output_type": "execute_result"
    }
   ],
   "source": [
    "message = 'I hope it snows tonight!'\n",
    "message.replace('snow','rain')"
   ]
  },
  {
   "cell_type": "markdown",
   "id": "7d75b6dc",
   "metadata": {},
   "source": [
    "* find - Returns the index of the first instance of a given string\n",
    "* upper - Converts all characters in a string to uppercase\n",
    "* lower - Converts all characters in a string to lowercase\n",
    "* strip -  Removes leading and trailing spaces, or any other character specified, from a string\n",
    "* replace - Substitutes a given string of characters with another\n",
    "* split -  Splits a list based on a given separator (space by default)\n",
    "* join - Joins list elements into a single string separated by a delimiter\n",
    "\n",
    "\n",
    "\n",
    "* find - .find(string)\n",
    "* upper - .upper()\n",
    "* lower - .lower()\n",
    "* strip -  .strip(optional_string)\n",
    "* replace - .replace(string to replace, replacement)\n",
    "* split -  .split(optional_string)\n",
    "* join - delimiter.join(list)"
   ]
  },
  {
   "cell_type": "code",
   "execution_count": 8,
   "id": "803af1db",
   "metadata": {},
   "outputs": [
    {
     "data": {
      "text/plain": [
       "10"
      ]
     },
     "execution_count": 8,
     "metadata": {},
     "output_type": "execute_result"
    }
   ],
   "source": [
    "#The .find() method searches for a specified value within a string and returns the index of its first instance\n",
    "message = 'I hope it snows tonight!'\n",
    "message.find('snow')"
   ]
  },
  {
   "cell_type": "code",
   "execution_count": 9,
   "id": "ab3085be",
   "metadata": {},
   "outputs": [
    {
     "data": {
      "text/plain": [
       "-1"
      ]
     },
     "execution_count": 9,
     "metadata": {},
     "output_type": "execute_result"
    }
   ],
   "source": [
    "message.find('rain') #-1 is returned if the specified value isn’t found"
   ]
  },
  {
   "cell_type": "code",
   "execution_count": 11,
   "id": "37fc5b1a",
   "metadata": {},
   "outputs": [
    {
     "data": {
      "text/plain": [
       "'I hope it snows tonight!'"
      ]
     },
     "execution_count": 11,
     "metadata": {},
     "output_type": "execute_result"
    }
   ],
   "source": [
    "message = '      I hope it snows tonight!    '\n",
    "message.strip()"
   ]
  },
  {
   "cell_type": "code",
   "execution_count": 14,
   "id": "00cbee74",
   "metadata": {},
   "outputs": [
    {
     "data": {
      "text/plain": [
       "'I hope it snows tonight!'"
      ]
     },
     "execution_count": 14,
     "metadata": {},
     "output_type": "execute_result"
    }
   ],
   "source": [
    "message = '.I hope it snows tonight!'\n",
    "message.strip('.')"
   ]
  },
  {
   "cell_type": "code",
   "execution_count": 15,
   "id": "fb8ed7f8",
   "metadata": {},
   "outputs": [
    {
     "data": {
      "text/plain": [
       "['I', 'hope', 'it', 'snows', 'tonight!']"
      ]
     },
     "execution_count": 15,
     "metadata": {},
     "output_type": "execute_result"
    }
   ],
   "source": [
    "message = 'I hope it snows tonight!'\n",
    "word_list =message.split(' ')\n",
    "word_list"
   ]
  },
  {
   "cell_type": "code",
   "execution_count": 17,
   "id": "8e3bd261",
   "metadata": {},
   "outputs": [
    {
     "data": {
      "text/plain": [
       "10"
      ]
     },
     "execution_count": 17,
     "metadata": {},
     "output_type": "execute_result"
    }
   ],
   "source": [
    "message.upper().find('SNOW') # Methods can be chained together to create powerful expressions"
   ]
  },
  {
   "cell_type": "markdown",
   "id": "1f967171",
   "metadata": {},
   "source": [
    "### ASSIGNMENT: STRING METHODS\n",
    "\n",
    "We want to draft more copy from the file attached:\n",
    "\n",
    "* Combine the text messages and call it ‘full_text’\n",
    "* Remove leading spaces and convert to lowercase, call it ‘fixed_text’\n",
    "* Change ‘on the mountain’ to ‘at the ski shop’ and call it ‘new_text’\n",
    "* Look up a method to count the number of spaces in ‘new_text’; we pay by word so I want to know how much our ad will cost. Word count equals the number of spaces plus 1."
   ]
  },
  {
   "cell_type": "code",
   "execution_count": 18,
   "id": "219fb54c",
   "metadata": {},
   "outputs": [],
   "source": [
    "text1 = '          Your friend Mark'\n",
    "text2 = 'was'\n",
    "text3 = 'having'\n",
    "text4 = 'a great day'\n",
    "text5 = 'on the mountain'"
   ]
  },
  {
   "cell_type": "code",
   "execution_count": 22,
   "id": "35879082",
   "metadata": {},
   "outputs": [
    {
     "data": {
      "text/plain": [
       "'Your friend Mark was having a great day on the mountain'"
      ]
     },
     "execution_count": 22,
     "metadata": {},
     "output_type": "execute_result"
    }
   ],
   "source": [
    "full_text = text1.strip() + ' ' + text2 + ' ' + text3 + ' ' + text4 + ' ' + text5\n",
    "full_text"
   ]
  },
  {
   "cell_type": "code",
   "execution_count": 23,
   "id": "4bbde38d",
   "metadata": {},
   "outputs": [
    {
     "data": {
      "text/plain": [
       "'your friend mark was having a great day on the mountain'"
      ]
     },
     "execution_count": 23,
     "metadata": {},
     "output_type": "execute_result"
    }
   ],
   "source": [
    "fixed_text = full_text.lower()\n",
    "fixed_text"
   ]
  },
  {
   "cell_type": "code",
   "execution_count": 24,
   "id": "65a28b5b",
   "metadata": {},
   "outputs": [
    {
     "data": {
      "text/plain": [
       "'your friend mark was having a great day at the ski shop'"
      ]
     },
     "execution_count": 24,
     "metadata": {},
     "output_type": "execute_result"
    }
   ],
   "source": [
    "new_text = fixed_text.replace('on the mountain', 'at the ski shop')\n",
    "new_text"
   ]
  },
  {
   "cell_type": "code",
   "execution_count": 25,
   "id": "7413f2e7",
   "metadata": {},
   "outputs": [
    {
     "data": {
      "text/plain": [
       "12"
      ]
     },
     "execution_count": 25,
     "metadata": {},
     "output_type": "execute_result"
    }
   ],
   "source": [
    "word_count = new_text.count(' ') + 1\n",
    "word_count"
   ]
  },
  {
   "cell_type": "markdown",
   "id": "4dff40b0",
   "metadata": {},
   "source": [
    "## F-STRING \n",
    "\n",
    "Add an f before the quotation marks to indicate an f-string, and place the variable names into the string by using curly braces {}"
   ]
  },
  {
   "cell_type": "code",
   "execution_count": 26,
   "id": "e971afa0",
   "metadata": {},
   "outputs": [
    {
     "name": "stdout",
     "output_type": "stream",
     "text": [
      "Chris is our favorite employee, of course!\n"
     ]
    }
   ],
   "source": [
    "name = 'Chris'\n",
    "role = 'employee'\n",
    "print(f\"{name} is our favorite {role}, of course!\")"
   ]
  },
  {
   "cell_type": "code",
   "execution_count": 28,
   "id": "56d08cf2",
   "metadata": {},
   "outputs": [
    {
     "name": "stdout",
     "output_type": "stream",
     "text": [
      "The snowboard cost 499.99.\n"
     ]
    }
   ],
   "source": [
    "price = 499.99\n",
    "product = 'snowboard'\n",
    "print(f\"The {product} cost {price}.\")"
   ]
  }
 ],
 "metadata": {
  "kernelspec": {
   "display_name": "Python 3 (ipykernel)",
   "language": "python",
   "name": "python3"
  },
  "language_info": {
   "codemirror_mode": {
    "name": "ipython",
    "version": 3
   },
   "file_extension": ".py",
   "mimetype": "text/x-python",
   "name": "python",
   "nbconvert_exporter": "python",
   "pygments_lexer": "ipython3",
   "version": "3.9.12"
  }
 },
 "nbformat": 4,
 "nbformat_minor": 5
}
