{
 "cells": [
  {
   "cell_type": "markdown",
   "id": "849c6ef9",
   "metadata": {},
   "source": [
    "# CONDITIONAL LOGIC\n",
    "\n",
    "In this section we’ll cover conditional logic, and write programs that make decisions based on given criteria using true or false expressions. \n",
    "\n",
    "\n",
    "The Boolean data type has two possible values: True & False\n",
    "* `True` is equivalent to 1 in arithmetic operations\n",
    "* `False` is equivalent to 0 in arithmetic operations\n",
    "\n",
    "The not keyword inverts Boolean values:\n",
    "* `not True` is equivalent to False\n",
    "* `not False` is equivalent to True\n",
    "\n",
    "\n",
    "**COMPARISON OPERATORS**\n",
    "\n",
    "* `==`  Equal \n",
    "* `!=`  Not equal \n",
    "* `<`   Less Than\n",
    "* `>`   Greater Than \n",
    "* `<=`  Less Than or Equal \n",
    "* `>=`  Greater Than or Equal \n",
    "\n",
    "Membership tests check if a value exists inside an iterable data type. \n",
    "\n",
    "The keywords in and not in are used to conduct membership tests"
   ]
  },
  {
   "cell_type": "code",
   "execution_count": 1,
   "id": "c866c5e5",
   "metadata": {},
   "outputs": [
    {
     "data": {
      "text/plain": [
       "True"
      ]
     },
     "execution_count": 1,
     "metadata": {},
     "output_type": "execute_result"
    }
   ],
   "source": [
    "message = 'I hope it snows tonight'\n",
    "'snow' in message"
   ]
  },
  {
   "cell_type": "code",
   "execution_count": 2,
   "id": "a9273468",
   "metadata": {},
   "outputs": [
    {
     "data": {
      "text/plain": [
       "False"
      ]
     },
     "execution_count": 2,
     "metadata": {},
     "output_type": "execute_result"
    }
   ],
   "source": [
    "'rain' in message"
   ]
  },
  {
   "cell_type": "code",
   "execution_count": 3,
   "id": "37adfeae",
   "metadata": {},
   "outputs": [
    {
     "data": {
      "text/plain": [
       "False"
      ]
     },
     "execution_count": 3,
     "metadata": {},
     "output_type": "execute_result"
    }
   ],
   "source": [
    "message = 'I hope it snows tonight'\n",
    "'snow' not in message"
   ]
  },
  {
   "cell_type": "markdown",
   "id": "dc979af6",
   "metadata": {},
   "source": [
    "Boolean operators allow you to combine multiple comparison operators\n",
    "\n",
    "* The `and` operator requires all statements to be true\n",
    "* The `or` operator requires one statement to be true"
   ]
  },
  {
   "cell_type": "code",
   "execution_count": 4,
   "id": "70dc82a5",
   "metadata": {},
   "outputs": [
    {
     "data": {
      "text/plain": [
       "False"
      ]
     },
     "execution_count": 4,
     "metadata": {},
     "output_type": "execute_result"
    }
   ],
   "source": [
    "5 > 4 and 7 > 8"
   ]
  },
  {
   "cell_type": "code",
   "execution_count": 5,
   "id": "45c35419",
   "metadata": {},
   "outputs": [
    {
     "data": {
      "text/plain": [
       "True"
      ]
     },
     "execution_count": 5,
     "metadata": {},
     "output_type": "execute_result"
    }
   ],
   "source": [
    "5 > 4 or 7 > 8"
   ]
  },
  {
   "cell_type": "code",
   "execution_count": 6,
   "id": "8fd7c579",
   "metadata": {},
   "outputs": [
    {
     "data": {
      "text/plain": [
       "True"
      ]
     },
     "execution_count": 6,
     "metadata": {},
     "output_type": "execute_result"
    }
   ],
   "source": [
    "price = 105\n",
    "item = 'skis'\n",
    "(price <= 100 and item == 'ski poles') or (item =='skis')\n",
    "# Because item == ‘skis’ the or operator makes the expression True"
   ]
  },
  {
   "cell_type": "markdown",
   "id": "d76e23a1",
   "metadata": {},
   "source": [
    "### ASSIGNMENT: BOOLEAN OPERATORS\n",
    "\n",
    "We need develop logic that displays Boolean values based on our inventory levels (current inventory = 5):\n",
    "1. Check if inventory is equal to 0\n",
    "2. Check if inventory is greater than 5\n",
    "3. If (2) is True, return a price of 99, 0.0 if not\n",
    "4. Check if inventory is positive and price is less than 100\n",
    "5. Check if the customer’s name is ‘Chris’ and the product is ‘super snowboard’, or if the inventory is greater than 0"
   ]
  },
  {
   "cell_type": "code",
   "execution_count": 10,
   "id": "d02f5340",
   "metadata": {},
   "outputs": [],
   "source": [
    "inventory_count = 5"
   ]
  },
  {
   "cell_type": "code",
   "execution_count": 14,
   "id": "60aabcde",
   "metadata": {},
   "outputs": [
    {
     "data": {
      "text/plain": [
       "0.0"
      ]
     },
     "execution_count": 14,
     "metadata": {},
     "output_type": "execute_result"
    }
   ],
   "source": [
    "inventory_count == 0 # False \n",
    "inventory_count > 5 # False \n",
    "(inventory_count > 5) * 99.99 # 0.0"
   ]
  },
  {
   "cell_type": "code",
   "execution_count": 15,
   "id": "8eb483ab",
   "metadata": {},
   "outputs": [
    {
     "data": {
      "text/plain": [
       "True"
      ]
     },
     "execution_count": 15,
     "metadata": {},
     "output_type": "execute_result"
    }
   ],
   "source": [
    "price = 99.99\n",
    "inventory_count > 0 and price < 100"
   ]
  },
  {
   "cell_type": "code",
   "execution_count": 16,
   "id": "3eea2800",
   "metadata": {},
   "outputs": [
    {
     "data": {
      "text/plain": [
       "False"
      ]
     },
     "execution_count": 16,
     "metadata": {},
     "output_type": "execute_result"
    }
   ],
   "source": [
    "customer_name = 'Barry'\n",
    "inventory_count = 0\n",
    "product = 'super_snowboard'\n",
    "\n",
    "(customer_name == 'Chris' and product == 'super_snowboard') or inventory_count > 0"
   ]
  },
  {
   "cell_type": "markdown",
   "id": "2379b86f",
   "metadata": {},
   "source": [
    "## CONDITIONAL CONTROL FLOW \n",
    "\n",
    "The `if` statement runs lines of indented code when a given logical condition is met"
   ]
  },
  {
   "cell_type": "code",
   "execution_count": 18,
   "id": "1a7421dc",
   "metadata": {
    "scrolled": true
   },
   "outputs": [
    {
     "name": "stdout",
     "output_type": "stream",
     "text": [
      "This snowboard is desinged for experienced users.\n",
      "This code will run whether or not the if statment is True\n"
     ]
    }
   ],
   "source": [
    "price = 999.99\n",
    "\n",
    "if price > 500: \n",
    "    print('This snowboard is desinged for experienced users.')\n",
    "    \n",
    "print('This code will run whether or not the if statment is True')"
   ]
  },
  {
   "cell_type": "markdown",
   "id": "013a8ce2",
   "metadata": {},
   "source": [
    "The `else` statement runs lines of indented code when the none of the logical conditions in an if or elif statements are met"
   ]
  },
  {
   "cell_type": "code",
   "execution_count": 19,
   "id": "a6cd4859",
   "metadata": {},
   "outputs": [
    {
     "name": "stdout",
     "output_type": "stream",
     "text": [
      "This board is suitable for beginners.\n"
     ]
    }
   ],
   "source": [
    "price = 499.99\n",
    "\n",
    "if price > 500: \n",
    "    print('This snowboard is desinged for experienced users.')\n",
    "else: \n",
    "    print('This board is suitable for beginners.')"
   ]
  },
  {
   "cell_type": "markdown",
   "id": "a0be7bbe",
   "metadata": {},
   "source": [
    "The `elif` statement lets you specify additional criteria to evaluate when the logical condition in an if statement is not met"
   ]
  },
  {
   "cell_type": "code",
   "execution_count": 20,
   "id": "48847dd1",
   "metadata": {},
   "outputs": [
    {
     "name": "stdout",
     "output_type": "stream",
     "text": [
      "This board is good for intermidate\n"
     ]
    }
   ],
   "source": [
    "price = 499.99\n",
    "expert_threshold = 500\n",
    "intermidate_threshold = 300\n",
    "\n",
    "if price > expert_threshold: \n",
    "    print('This board is for experienced users.')\n",
    "elif price > intermidate_threshold:\n",
    "    print('This board is good for intermidate')\n",
    "else: \n",
    "    print('This should be suitable for a beginner.')"
   ]
  },
  {
   "cell_type": "markdown",
   "id": "95bd587e",
   "metadata": {},
   "source": [
    "Any number of `elif` statements can be used between the if and else statements As more logical statements are added, it’s important to be careful with their order"
   ]
  },
  {
   "cell_type": "code",
   "execution_count": 21,
   "id": "d4feae04",
   "metadata": {},
   "outputs": [
    {
     "name": "stdout",
     "output_type": "stream",
     "text": [
      "This board is good for intermidate users\n"
     ]
    }
   ],
   "source": [
    "price = 1499.99\n",
    "luxury_threshold = 1000\n",
    "expert_threshold = 500\n",
    "intermidate_threshold = 300\n",
    "\n",
    "if price > intermidate_threshold:\n",
    "    print('This board is good for intermidate users')\n",
    "elif price > expert_threshold:\n",
    "    print('This board is good for experienced users')\n",
    "elif price > luxury_threshold:\n",
    "    print(\"This dosen't improve the ride but looks good board is good for experienced users\")\n",
    "else: \n",
    "    print(\"This should be suitable for a beginner\")"
   ]
  },
  {
   "cell_type": "markdown",
   "id": "4c050103",
   "metadata": {},
   "source": [
    "## NESTED IF STATEMENTS\n",
    "\n",
    "`Nested if` statements let you specify additional criteria to evaluate after a logical condition in an if statement is met"
   ]
  },
  {
   "cell_type": "code",
   "execution_count": 23,
   "id": "738cc414",
   "metadata": {},
   "outputs": [
    {
     "name": "stdout",
     "output_type": "stream",
     "text": [
      "You can afford this but it's out of stock\n"
     ]
    }
   ],
   "source": [
    "price = 499.99\n",
    "budget = 500\n",
    "inventory = 0 \n",
    "\n",
    "if budget > price:\n",
    "    if inventory > 0:\n",
    "        print('You can afford this and we have it in stock')\n",
    "    else:\n",
    "        print(\"You can afford this but it's out of stock\")\n",
    "else: \n",
    "    print(f'Unfortunately, this board cost more than ${budget},')"
   ]
  },
  {
   "cell_type": "markdown",
   "id": "29d6b4ac",
   "metadata": {},
   "source": [
    "### ASSIGNMENT: NESTED IF STATEMENTS\n",
    "\n",
    "Hi there, we need to make one final change to our inventory logic for Chris, our owner:\n",
    "* If inventory is 0 or less, and if the customer’s name is ‘Chris’, print ‘You can have the display model, sir’\n",
    "* Otherwise, print ‘Out of stock’\n",
    "\n",
    "The rest of the logic should stay the same. Thanks again!"
   ]
  },
  {
   "cell_type": "code",
   "execution_count": 35,
   "id": "698432bd",
   "metadata": {},
   "outputs": [
    {
     "name": "stdout",
     "output_type": "stream",
     "text": [
      "You can have the display model, sir\n"
     ]
    }
   ],
   "source": [
    "# My answer \n",
    "inventory = 0\n",
    "customer_name = 'Chris'\n",
    "\n",
    "if inventory <= 0:\n",
    "    if customer_name == 'Chris':\n",
    "        print('You can have the display model, sir')\n",
    "    else:\n",
    "        print('Out of stock')\n",
    "else: \n",
    "    print('In of stock')"
   ]
  },
  {
   "cell_type": "code",
   "execution_count": 29,
   "id": "ab7fae73",
   "metadata": {},
   "outputs": [
    {
     "name": "stdout",
     "output_type": "stream",
     "text": [
      "You can have the display model, sir\n"
     ]
    }
   ],
   "source": [
    "# Final Answer \n",
    "if inventory <= 0:\n",
    "    if customer_name == 'Chris':\n",
    "        print('You can have the display model, sir')\n",
    "    else:\n",
    "        print('Out of stock')\n",
    "elif inventory <= 5:\n",
    "    print('Low Stock')\n",
    "else:\n",
    "    print('In Stock')"
   ]
  }
 ],
 "metadata": {
  "kernelspec": {
   "display_name": "Python 3 (ipykernel)",
   "language": "python",
   "name": "python3"
  },
  "language_info": {
   "codemirror_mode": {
    "name": "ipython",
    "version": 3
   },
   "file_extension": ".py",
   "mimetype": "text/x-python",
   "name": "python",
   "nbconvert_exporter": "python",
   "pygments_lexer": "ipython3",
   "version": "3.9.12"
  }
 },
 "nbformat": 4,
 "nbformat_minor": 5
}
