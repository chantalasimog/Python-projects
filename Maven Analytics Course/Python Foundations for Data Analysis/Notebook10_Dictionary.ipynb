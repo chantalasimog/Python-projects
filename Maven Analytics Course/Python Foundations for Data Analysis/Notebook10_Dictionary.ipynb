{
 "cells": [
  {
   "cell_type": "markdown",
   "id": "7ea8767a",
   "metadata": {},
   "source": [
    "# DICTIONARIES & SETS\n",
    "\n",
    "In this section we’ll cover dictionaries and sets, two iterable data types with helpful use cases that allow for quick information retrieval and store unique values\n",
    "\n",
    "\n",
    "\n",
    "Dictionaries store key-value pairs, where keys are used to look up values\n",
    "* **Keys** must be unique & immutable (simple data types like strings are immutable)\n",
    "* **Values** do not need to be unique and can be any data typ"
   ]
  },
  {
   "cell_type": "code",
   "execution_count": 1,
   "id": "d8aa7cf9",
   "metadata": {},
   "outputs": [
    {
     "data": {
      "text/plain": [
       "'sold out'"
      ]
     },
     "execution_count": 1,
     "metadata": {},
     "output_type": "execute_result"
    }
   ],
   "source": [
    "iventory_status = {'skis': 'in stock',\n",
    "                   'snowboard': 'sold out',\n",
    "                  'goggles': 'sold out',\n",
    "                  'boots': 'in stock'}\n",
    "iventory_status['goggles']"
   ]
  },
  {
   "cell_type": "code",
   "execution_count": 6,
   "id": "de32d1f4",
   "metadata": {},
   "outputs": [
    {
     "name": "stdout",
     "output_type": "stream",
     "text": [
      "True\n"
     ]
    }
   ],
   "source": [
    "iventory_status = {'skis': [249.99, 10,'in stock'],\n",
    "                   'snowboard': [219.99, 0, 'sold out'],\n",
    "                  'goggles': [99.99, 0, 'sold out'],\n",
    "                  'boots': [79.99, 7, 'in stock']}\n",
    "\n",
    "iventory_status['skis'] # The key is the item name, and the value is a list storing item\n",
    "iventory_status['skis'][1] # This returns the second element (index of 1) \n"
   ]
  },
  {
   "cell_type": "code",
   "execution_count": 7,
   "id": "d11efb54",
   "metadata": {},
   "outputs": [
    {
     "name": "stdout",
     "output_type": "stream",
     "text": [
      "True\n"
     ]
    }
   ],
   "source": [
    "# You can conduct membership tests on dictionary keys\n",
    "print('skis' in iventory_status)"
   ]
  },
  {
   "cell_type": "code",
   "execution_count": 8,
   "id": "9b0e8686",
   "metadata": {},
   "outputs": [
    {
     "name": "stdout",
     "output_type": "stream",
     "text": [
      "skis [249.99, 10, 'in stock']\n",
      "snowboard [219.99, 0, 'sold out']\n",
      "goggles [99.99, 0, 'sold out']\n",
      "boots [79.99, 7, 'in stock']\n"
     ]
    }
   ],
   "source": [
    "# Note that the items that are being looped over are the dictionary keys\n",
    "for iventory in iventory_status:\n",
    "    print(iventory,iventory_status[iventory])"
   ]
  },
  {
   "cell_type": "markdown",
   "id": "d40657c6",
   "metadata": {},
   "source": [
    "## MODIFYING DICTIONARIES\n",
    "\n",
    "Referencing a new key and assigning it a value will add a new key-value pair, while referencing an existing key will overwrite the existing pair"
   ]
  },
  {
   "cell_type": "code",
   "execution_count": 9,
   "id": "23881abe",
   "metadata": {},
   "outputs": [],
   "source": [
    "item_details = {'skis': [249.99, 10,'in stock'],\n",
    "                'snowboard': [219.99, 0, 'sold out'],\n",
    "                'goggles': [99.99, 0, 'sold out'],\n",
    "                'boots': [79.99, 7, 'in stock']}"
   ]
  },
  {
   "cell_type": "code",
   "execution_count": 10,
   "id": "eb615d1a",
   "metadata": {},
   "outputs": [
    {
     "data": {
      "text/plain": [
       "{'skis': [249.99, 10, 'in stock'],\n",
       " 'snowboard': [219.99, 0, 'sold out'],\n",
       " 'goggles': [99.99, 0, 'sold out'],\n",
       " 'boots': [79.99, 7, 'in stock'],\n",
       " 'binding': [149.99, 4, 'in stock']}"
      ]
     },
     "execution_count": 10,
     "metadata": {},
     "output_type": "execute_result"
    }
   ],
   "source": [
    "item_details['binding'] = [149.99, 4, 'in stock']  # Adding ‘bindings’ adds the key-value pair to the dictionary\n",
    "item_details"
   ]
  },
  {
   "cell_type": "code",
   "execution_count": 11,
   "id": "f175abde",
   "metadata": {},
   "outputs": [
    {
     "data": {
      "text/plain": [
       "{'skis': [249.99, 10, 'in stock'],\n",
       " 'snowboard': [219.99, 0, 'sold out'],\n",
       " 'goggles': [99.99, 0, 'sold out'],\n",
       " 'boots': [79.99, 7, 'in stock'],\n",
       " 'binding': [139.99, 4, 'in stock']}"
      ]
     },
     "execution_count": 11,
     "metadata": {},
     "output_type": "execute_result"
    }
   ],
   "source": [
    "item_details['binding'] = [139.99, 4, 'in stock']  # Updating\n",
    "item_details"
   ]
  },
  {
   "cell_type": "code",
   "execution_count": 12,
   "id": "e883e99a",
   "metadata": {
    "scrolled": true
   },
   "outputs": [
    {
     "data": {
      "text/plain": [
       "{'skis': [249.99, 10, 'in stock'],\n",
       " 'snowboard': [219.99, 0, 'sold out'],\n",
       " 'goggles': [99.99, 0, 'sold out'],\n",
       " 'binding': [139.99, 4, 'in stock']}"
      ]
     },
     "execution_count": 12,
     "metadata": {},
     "output_type": "execute_result"
    }
   ],
   "source": [
    "del item_details['boots']\n",
    "item_details"
   ]
  },
  {
   "cell_type": "markdown",
   "id": "b09a6379",
   "metadata": {},
   "source": [
    "### ASSIGNMENT: DICTIONARY BASICS\n",
    "\n",
    "Good morning,\n",
    "\n",
    "I’m glad we brought you on – I’m passing on the responsibility of managing birthday snacks to you.\n",
    "Here are some of the changes needed:\n",
    "* Can you let me know what Stuart’s snack is?\n",
    "* Add me – I like ‘Cheese and Crackers’\n",
    "* Nobody else wants raisins, can you change Jerry’s snack to ‘Fig Bars’?\n",
    "* Remove Sierra – she doesn’t work here"
   ]
  },
  {
   "cell_type": "code",
   "execution_count": 13,
   "id": "21e9bcda",
   "metadata": {},
   "outputs": [],
   "source": [
    "# Dictionary for each employee and their snack\n",
    "snacks = {\n",
    "    'Sally': 'Popcorn',\n",
    "    'Ricard': 'Chocolate Ice Cream',\n",
    "    'Stuart': 'Apple Pie',\n",
    "    'Jerry': 'Raisins',\n",
    "    'Sierra': 'Peanut Butter Cookies'}"
   ]
  },
  {
   "cell_type": "code",
   "execution_count": 14,
   "id": "6e5403cd",
   "metadata": {},
   "outputs": [
    {
     "data": {
      "text/plain": [
       "'Apple Pie'"
      ]
     },
     "execution_count": 14,
     "metadata": {},
     "output_type": "execute_result"
    }
   ],
   "source": [
    "snacks['Stuart']\n",
    "snacks['Alfie'] = ['Cheese and Crackers'] \n",
    "snacks['Jerry'] = ['Fig Bars'] \n",
    "del snacks['Sierra']\n",
    "snacks"
   ]
  },
  {
   "cell_type": "markdown",
   "id": "63c0a0d0",
   "metadata": {},
   "source": [
    "### ASSIGNMENT: DICTIONARY CREATION\n",
    "Hello!\n",
    "\n",
    "We need a quick way for our sales staff to look up the inventory of our items (I’ve attached two lists).\n",
    "Can you create a dictionary with each item as a key, with ‘in stock’ if the corresponding inventory value is greater than 0, and ‘sold out’ if the inventory value equals zero?\n",
    "\n",
    "These lists are a small sample, so make sure you aren’t manually coding the dictionary."
   ]
  },
  {
   "cell_type": "code",
   "execution_count": 21,
   "id": "8258a3fb",
   "metadata": {},
   "outputs": [],
   "source": [
    "items = ['skis', 'snowboard', 'goggles', 'boots']\n",
    "inventory = [10, 0, 0, 7]\n",
    "inventory_status = {}"
   ]
  },
  {
   "cell_type": "code",
   "execution_count": 23,
   "id": "f709a642",
   "metadata": {
    "scrolled": true
   },
   "outputs": [
    {
     "data": {
      "text/plain": [
       "{'skis': 'in stock',\n",
       " 'snowboard': 'sold out',\n",
       " 'goggles': 'sold out',\n",
       " 'boots': 'in stock'}"
      ]
     },
     "execution_count": 23,
     "metadata": {},
     "output_type": "execute_result"
    }
   ],
   "source": [
    "for i, item in enumerate(items):\n",
    "    if inventory[i] == 0:\n",
    "        inventory_status[item] = 'sold out'\n",
    "    else:\n",
    "        inventory_status[item] = 'in stock'\n",
    "inventory_status"
   ]
  },
  {
   "cell_type": "markdown",
   "id": "7d0916bc",
   "metadata": {},
   "source": [
    "## DICTIONARY METHODS\n",
    "\n",
    "* keys   - Returns the keys from a dictionary  .keys()\n",
    "* values - Returns the values from a dictionary . values()\n",
    "* items  - Returns key value pairs from a dictionary as a list of tuples .items()\n",
    "* get    - Returns a value for a given key, or an optional value if the key isn’t found .get() \n",
    "* update -  Appends specified key-value pairs, including entire dictionaries .update(key:value pairs)"
   ]
  },
  {
   "cell_type": "code",
   "execution_count": 25,
   "id": "fbac93fb",
   "metadata": {},
   "outputs": [
    {
     "name": "stdout",
     "output_type": "stream",
     "text": [
      "['skis', 'snowboard', 'goggles', 'boots']\n"
     ]
    }
   ],
   "source": [
    "# The .keys() method returns the keys from a dictionary\n",
    "item_details = {'skis': [249.99, 10,'in stock'],\n",
    "                'snowboard': [219.99, 0, 'sold out'],\n",
    "                'goggles': [99.99, 0, 'sold out'],\n",
    "                'boots': [79.99, 7, 'in stock']}\n",
    "\n",
    "item_details.keys()\n",
    "\n",
    "key_list = list(item_details.keys())\n",
    "print(key_list)"
   ]
  },
  {
   "cell_type": "code",
   "execution_count": 28,
   "id": "8b253fb2",
   "metadata": {},
   "outputs": [
    {
     "data": {
      "text/plain": [
       "[249.99, 219.99, 99.99, 79.99]"
      ]
     },
     "execution_count": 28,
     "metadata": {},
     "output_type": "execute_result"
    }
   ],
   "source": [
    "# The .values() method returns the values from a dictionary\n",
    "item_details.values() # values() returns a view object \n",
    "\n",
    "price_list =[]\n",
    "for attribute in item_details.values():\n",
    "    price_list.append(attribute[0])\n",
    "price_list"
   ]
  },
  {
   "cell_type": "code",
   "execution_count": 31,
   "id": "4dd13966",
   "metadata": {},
   "outputs": [
    {
     "name": "stdout",
     "output_type": "stream",
     "text": [
      "The skis costs 249.99.\n",
      "The snowboard costs 219.99.\n",
      "The goggles costs 99.99.\n",
      "The boots costs 79.99.\n"
     ]
    }
   ],
   "source": [
    "# The .items() method returns key-value pairs from a dictionary as a list of tuples\n",
    "item_details.items() \n",
    "\n",
    "for key, value in item_details.items():\n",
    "    print(f\"The {key} costs {value[0]}.\")"
   ]
  },
  {
   "cell_type": "code",
   "execution_count": 36,
   "id": "ccc3826e",
   "metadata": {},
   "outputs": [
    {
     "data": {
      "text/plain": [
       "\"Sorry we don't carry that item.\""
      ]
     },
     "execution_count": 36,
     "metadata": {},
     "output_type": "execute_result"
    }
   ],
   "source": [
    "# The .get() method returns the values associated with a dictionary key\n",
    "item_details.get(\"bindings\", \"Sorry we don't carry that item.\")"
   ]
  },
  {
   "cell_type": "code",
   "execution_count": 37,
   "id": "7642d904",
   "metadata": {},
   "outputs": [
    {
     "data": {
      "text/plain": [
       "{'skis': [249.99, 10, 'in stock'],\n",
       " 'snowboard': [219.99, 0, 'sold out'],\n",
       " 'goggles': [99.99, 0, 'sold out'],\n",
       " 'boots': [79.99, 7, 'in stock'],\n",
       " 'bindings': [139.99, 0, 'out of stock']}"
      ]
     },
     "execution_count": 37,
     "metadata": {},
     "output_type": "execute_result"
    }
   ],
   "source": [
    "# The .update() method appends key-value pairs to a dictionary\n",
    "item_details.update({\"bindings\": [139.99, 0, 'out of stock']})\n",
    "item_details"
   ]
  },
  {
   "cell_type": "code",
   "execution_count": 38,
   "id": "caa80ce9",
   "metadata": {},
   "outputs": [
    {
     "data": {
      "text/plain": [
       "{'skis': [249.99, 10, 'in stock'],\n",
       " 'snowboard': [219.99, 0, 'sold out'],\n",
       " 'goggles': [99.99, 0, 'sold out'],\n",
       " 'boots': [79.99, 7, 'in stock'],\n",
       " 'bindings': [139.99, 0, 'out of stock'],\n",
       " 'scarf': [19.99, 100, 'In stock'],\n",
       " 'snowpants': 'N/A'}"
      ]
     },
     "execution_count": 38,
     "metadata": {},
     "output_type": "execute_result"
    }
   ],
   "source": [
    "new_item = {'scarf': [19.99, 100, 'In stock'], 'snowpants': 'N/A'}\n",
    "item_details.update(new_item)\n",
    "item_details"
   ]
  },
  {
   "cell_type": "markdown",
   "id": "552568e5",
   "metadata": {},
   "source": [
    "### ASSIGNMENT: DICTIONARY METHODS\n",
    "We’re exploring the launch of our first store in Torino, Italy and I need help building out some of the data.\n",
    "\n",
    "* First, I need a dictionary containing the item numbers as keys, the number of sizes for each item as values.\n",
    "* Then, I need you to add items 10010 and 10011 with size counts of 4 and 7, respectively.\n",
    "* Finally, pull the prices out of the product dictionary and return a list with converted Euro pricing.\n"
   ]
  },
  {
   "cell_type": "code",
   "execution_count": 45,
   "id": "e13c7953",
   "metadata": {},
   "outputs": [],
   "source": [
    "item_dict = {10001: ('Coffee', 5.99, 'beverage', ['250mL']),\n",
    "             10002: ('Beanie', 9.99, 'clothing', ['Child', 'Adult']),\n",
    "             10003: ('Gloves', 19.99, 'clothing', ['Child', 'Adult']),\n",
    "             10004: ('Sweatshirt', 24.99, 'clothing', ['XS', 'S', 'M', 'L', 'XL', 'XXL']),\n",
    "             10005: ('Helmet', 99.99, 'safety', ['Child', 'Adult']),\n",
    "             10006: ('Snow Pants', 79.99, 'clothing', ['XS', 'S', 'M', 'L', 'XL', 'XXL']),\n",
    "             10007: ('Coat', 119.99, 'clothing', ['S', 'M', 'L']),\n",
    "             10008: ('Ski Poles', 99.99, 'hardware', ['S', 'M', 'L']),\n",
    "             10009: ('Ski Boots', 199.99, 'hardware', [5, 6, 7, 8, 9, 10, 11])}"
   ]
  },
  {
   "cell_type": "code",
   "execution_count": 46,
   "id": "e02f5a4b",
   "metadata": {},
   "outputs": [
    {
     "name": "stdout",
     "output_type": "stream",
     "text": [
      "{10001: 1, 10002: 2, 10003: 2, 10004: 6, 10005: 2, 10006: 6, 10007: 3, 10008: 3, 10009: 7}\n"
     ]
    }
   ],
   "source": [
    "size_counts = {}\n",
    "\n",
    "for key, value in item_dict.items():\n",
    "    size_counts[key] = len(value[3])\n",
    "    \n",
    "print(size_counts)"
   ]
  },
  {
   "cell_type": "code",
   "execution_count": 48,
   "id": "3ec48204",
   "metadata": {
    "scrolled": true
   },
   "outputs": [
    {
     "name": "stdout",
     "output_type": "stream",
     "text": [
      "{10001: 1, 10002: 2, 10003: 2, 10004: 6, 10005: 2, 10006: 6, 10007: 3, 10008: 3, 10009: 7, 10010: 4, 10011: 7}\n"
     ]
    }
   ],
   "source": [
    "new_item = {10010: 4, 10011: 7}\n",
    "size_counts.update(new_item)\n",
    "print(size_counts)"
   ]
  },
  {
   "cell_type": "code",
   "execution_count": 50,
   "id": "5e3dd4b5",
   "metadata": {},
   "outputs": [
    {
     "data": {
      "text/plain": [
       "[5.27, 8.79, 17.59, 21.99, 87.99, 70.39, 105.59, 87.99, 175.99]"
      ]
     },
     "execution_count": 50,
     "metadata": {},
     "output_type": "execute_result"
    }
   ],
   "source": [
    "euro_prices = []\n",
    "exchange_rate = .88\n",
    "\n",
    "for prices in item_dict.values():\n",
    "    euro_prices.append(round(prices[1] * exchange_rate, 2))\n",
    "euro_prices"
   ]
  },
  {
   "cell_type": "markdown",
   "id": "5fe78f23",
   "metadata": {},
   "source": [
    "### ZIP\n",
    "\n",
    "\n",
    "The zip() function is commonly used to build dictionaries"
   ]
  },
  {
   "cell_type": "code",
   "execution_count": 53,
   "id": "fba439fc",
   "metadata": {},
   "outputs": [
    {
     "data": {
      "text/plain": [
       "{'skis': [249.99, 10, 'in stock'],\n",
       " 'snowboard': [219.99, 0, 'sold out'],\n",
       " 'goggles': [99.99, 0, 'sold out'],\n",
       " 'boots': [79.99, 7, 'in stock']}"
      ]
     },
     "execution_count": 53,
     "metadata": {},
     "output_type": "execute_result"
    }
   ],
   "source": [
    "item_details = [[249.99, 10,'in stock'],\n",
    "                [219.99, 0, 'sold out'],\n",
    "                [99.99, 0, 'sold out'],\n",
    "                [79.99, 7, 'in stock']]\n",
    "\n",
    "item_names = ['skis','snowboard','goggles','boots']\n",
    "                \n",
    "item_dict = dict(zip(item_names,item_details))\n",
    "item_dict"
   ]
  },
  {
   "cell_type": "markdown",
   "id": "2974ba7e",
   "metadata": {},
   "source": [
    "### ASSIGNMENT: ZIP\n",
    "\n",
    "Hi there!\n",
    "\n",
    "We’re developing the architecture for our planned European store.\n",
    "Can you create a dictionary by combining item_ids as keys with the lists item_names, euro_prices, item_category, and sizes as the values?\n",
    "\n",
    "We’ll upload this to our database shortly. Exciting times!"
   ]
  },
  {
   "cell_type": "code",
   "execution_count": 55,
   "id": "a9538ab0",
   "metadata": {},
   "outputs": [],
   "source": [
    "# Data for dictionary\n",
    "\n",
    "item_ids = [\n",
    "    10001, 10002, 10003, 10004, 10005, \n",
    "    10006, 10007, 10008, 10009]\n",
    "\n",
    "item_names = [\n",
    "    \"Coffee\", \"Beanie\", \"Gloves\", \"Sweatshirt\", \"Helmet\",\n",
    "    \"Snow Pants\", \"Coat\", \"Ski Poles\", \"Ski Boots\"]\n",
    "\n",
    "euro_prices = [\n",
    "    5.27, 8.79, 17.59, 21.99, 87.99, \n",
    "    70.39, 105.59, 87.99, 175.99]\n",
    "\n",
    "item_category = [\n",
    "    \"beverage\", \"clothing\", \"clothing\", \"clothing\", \"safety\",\n",
    "    \"clothing\", \"clothing\", \"hardware\", \"hardware\",]\n",
    "\n",
    "sizes = [\n",
    "    [\"250mL\"],\n",
    "    [\"Child\", \"Adult\"],\n",
    "    [\"Child\", \"Adult\"],\n",
    "    [\"XS\", \"S\", \"M\", \"L\", \"XL\", \"XXL\"],\n",
    "    [\"Child\", \"Adult\"],\n",
    "    [\"XS\", \"S\", \"M\", \"L\", \"XL\", \"XXL\"],\n",
    "    [\"S\", \"M\", \"L\"],\n",
    "    [\"S\", \"M\", \"L\"],\n",
    "    [5, 6, 7, 8, 9, 10, 11],\n",
    "    [\"S\", \"M\", \"L\"],\n",
    "    [5, 6, 7, 8, 9, 10, 11],\n",
    "    [\"NA\"],\n",
    "    [\"S\", \"M\", \"L\", \"Powder\"],]"
   ]
  },
  {
   "cell_type": "code",
   "execution_count": 57,
   "id": "58ac3852",
   "metadata": {},
   "outputs": [
    {
     "data": {
      "text/plain": [
       "{10001: ('Coffee', 5.27, 'beverage', ['250mL']),\n",
       " 10002: ('Beanie', 8.79, 'clothing', ['Child', 'Adult']),\n",
       " 10003: ('Gloves', 17.59, 'clothing', ['Child', 'Adult']),\n",
       " 10004: ('Sweatshirt', 21.99, 'clothing', ['XS', 'S', 'M', 'L', 'XL', 'XXL']),\n",
       " 10005: ('Helmet', 87.99, 'safety', ['Child', 'Adult']),\n",
       " 10006: ('Snow Pants', 70.39, 'clothing', ['XS', 'S', 'M', 'L', 'XL', 'XXL']),\n",
       " 10007: ('Coat', 105.59, 'clothing', ['S', 'M', 'L']),\n",
       " 10008: ('Ski Poles', 87.99, 'hardware', ['S', 'M', 'L']),\n",
       " 10009: ('Ski Boots', 175.99, 'hardware', [5, 6, 7, 8, 9, 10, 11])}"
      ]
     },
     "execution_count": 57,
     "metadata": {},
     "output_type": "execute_result"
    }
   ],
   "source": [
    "euro_items = dict(zip(item_ids, zip(item_names, euro_prices, item_category, sizes)))\n",
    "euro_items"
   ]
  },
  {
   "cell_type": "markdown",
   "id": "77e96ed4",
   "metadata": {},
   "source": [
    "## NESTED DICTIONARIES\n",
    "\n",
    "You can nest dictionaries as values of another dictionary\n",
    "* The nested dictionary is referred to as an inner dictionary (the other is an outer dictionary)"
   ]
  },
  {
   "cell_type": "code",
   "execution_count": 58,
   "id": "7b88538f",
   "metadata": {},
   "outputs": [
    {
     "data": {
      "text/plain": [
       "{2019: {'skis': [249.99, 10, 'in stock'],\n",
       "  'snowboard': [219.99, 0, 'sold out']},\n",
       " 2020: {'skis': [259.99, 10, 'in stock'],\n",
       "  'snowboard': [229.99, 0, 'sold out']},\n",
       " 2021: {'skis': [269.99, 10, 'in stock'],\n",
       "  'snowboard': [239.99, 0, 'sold out']}}"
      ]
     },
     "execution_count": 58,
     "metadata": {},
     "output_type": "execute_result"
    }
   ],
   "source": [
    "item_history = {2019: {\"skis\": [249.99, 10,'in stock'], \"snowboard\": [219.99, 0, 'sold out']},\n",
    "                2020: {\"skis\": [259.99, 10,'in stock'], \"snowboard\": [229.99, 0, 'sold out']},\n",
    "                2021: {\"skis\": [269.99, 10,'in stock'], \"snowboard\": [239.99, 0, 'sold out']},\n",
    "               }\n",
    "item_history"
   ]
  },
  {
   "cell_type": "code",
   "execution_count": 59,
   "id": "ddc3afa1",
   "metadata": {},
   "outputs": [
    {
     "data": {
      "text/plain": [
       "{'skis': [259.99, 10, 'in stock'], 'snowboard': [229.99, 0, 'sold out']}"
      ]
     },
     "execution_count": 59,
     "metadata": {},
     "output_type": "execute_result"
    }
   ],
   "source": [
    "item_history[2020]\n",
    "item_history[2020]['skis']"
   ]
  },
  {
   "cell_type": "markdown",
   "id": "e5c491cc",
   "metadata": {},
   "source": [
    "### ASSIGNMENT: NESTED DICTIONARIES\n",
    "\n",
    "Hi again!\n",
    "\n",
    "We decided to restructure the dictionary you created earlier into a nested dictionary with each attribute represented by a key for fast lookup. Can you:\n",
    "1. Verify the price on item 10009\n",
    "2. Update the sizes for item 10009 to European sizing (they are stored in a list)\n",
    "3. Create a dictionary based on the new one that includes item name as keys and sizes as values"
   ]
  },
  {
   "cell_type": "code",
   "execution_count": 61,
   "id": "c9209ab4",
   "metadata": {},
   "outputs": [],
   "source": [
    "euro_data = {\n",
    "    item_id: {\n",
    "        'name': name,\n",
    "        'price': price,\n",
    "        'category': category,\n",
    "        'sizes': sizes\n",
    "        }\n",
    "    for item_id, name, price, category, sizes\n",
    "    in zip(item_ids, item_names, euro_prices, item_category, sizes)}"
   ]
  },
  {
   "cell_type": "code",
   "execution_count": 62,
   "id": "a4821e90",
   "metadata": {},
   "outputs": [
    {
     "data": {
      "text/plain": [
       "175.99"
      ]
     },
     "execution_count": 62,
     "metadata": {},
     "output_type": "execute_result"
    }
   ],
   "source": [
    "euro_data[10009]['price']"
   ]
  },
  {
   "cell_type": "code",
   "execution_count": 63,
   "id": "5b0f5b67",
   "metadata": {},
   "outputs": [],
   "source": [
    "boot_sizes = [37, 38, 39.5, 40.5, 41.5, 43.5, 44.5, 46.5]\n",
    "euro_data[10009]['sizes'] = boot_sizes"
   ]
  },
  {
   "cell_type": "code",
   "execution_count": 64,
   "id": "d43758a9",
   "metadata": {},
   "outputs": [
    {
     "data": {
      "text/plain": [
       "{'Coffee': ['250mL'],\n",
       " 'Beanie': ['Child', 'Adult'],\n",
       " 'Gloves': ['Child', 'Adult'],\n",
       " 'Sweatshirt': ['XS', 'S', 'M', 'L', 'XL', 'XXL'],\n",
       " 'Helmet': ['Child', 'Adult'],\n",
       " 'Snow Pants': ['XS', 'S', 'M', 'L', 'XL', 'XXL'],\n",
       " 'Coat': ['S', 'M', 'L'],\n",
       " 'Ski Poles': ['S', 'M', 'L'],\n",
       " 'Ski Boots': [37, 38, 39.5, 40.5, 41.5, 43.5, 44.5, 46.5]}"
      ]
     },
     "execution_count": 64,
     "metadata": {},
     "output_type": "execute_result"
    }
   ],
   "source": [
    "product_sizes = {}\n",
    "\n",
    "for product_details in euro_data.values():\n",
    "    product_sizes[product_details['name']] = product_details['sizes']\n",
    "    \n",
    "product_sizes"
   ]
  },
  {
   "cell_type": "markdown",
   "id": "f2e7ec1b",
   "metadata": {},
   "source": [
    "## SETS\n",
    "\n",
    "A set is a collection of unique values\n",
    "* Sets are unordered, which means their values cannot be accessed via index or key\n",
    "* Sets are mutable (values can be added/removed), but set values must be unique & immutable"
   ]
  },
  {
   "cell_type": "code",
   "execution_count": 65,
   "id": "0d20b268",
   "metadata": {},
   "outputs": [
    {
     "data": {
      "text/plain": [
       "{'skis', 'sled', 'snowboard'}"
      ]
     },
     "execution_count": 65,
     "metadata": {},
     "output_type": "execute_result"
    }
   ],
   "source": [
    "my_set = {'snowboard', 'snowboard', 'skis', 'snowboard', 'sled'}\n",
    "my_set"
   ]
  },
  {
   "cell_type": "code",
   "execution_count": 66,
   "id": "bcdc4ddf",
   "metadata": {},
   "outputs": [
    {
     "data": {
      "text/plain": [
       "{'skis', 'sled', 'snowboard'}"
      ]
     },
     "execution_count": 66,
     "metadata": {},
     "output_type": "execute_result"
    }
   ],
   "source": [
    "# Sets can also be created via conversion using set()\n",
    "my_set = set(['snowboard', 'snowboard', 'skis', 'snowboard', 'sled'])\n",
    "my_set"
   ]
  },
  {
   "cell_type": "code",
   "execution_count": 69,
   "id": "887a614d",
   "metadata": {},
   "outputs": [
    {
     "name": "stdout",
     "output_type": "stream",
     "text": [
      "sled\n",
      "snowboard\n",
      "skis\n"
     ]
    }
   ],
   "source": [
    "'snowboard' in my_set #True\n",
    "for value in my_set:  # You can loop through them\n",
    "    print(value)"
   ]
  },
  {
   "cell_type": "markdown",
   "id": "5cdeac4b",
   "metadata": {},
   "source": [
    "### ASSIGNMENT: SETS\n",
    "\n",
    "Hey,\n",
    "I’m doing an analysis on product categories.\n",
    "* Can you collect the unique product category values from our European dictionary??\n",
    "* How many unique categories are there?\n",
    "* Once you have that, can you check if ‘outdoor’ is in there yet?\n",
    "\n",
    "This will be really helpful, thanks!"
   ]
  },
  {
   "cell_type": "code",
   "execution_count": 70,
   "id": "5abce81f",
   "metadata": {},
   "outputs": [
    {
     "data": {
      "text/plain": [
       "{10001: ('Coffee', 5.27, 'beverage', ['250mL']),\n",
       " 10002: ('Beanie', 8.79, 'clothing', ['Child', 'Adult']),\n",
       " 10003: ('Gloves', 17.59, 'clothing', ['Child', 'Adult']),\n",
       " 10004: ('Sweatshirt', 21.99, 'clothing', ['XS', 'S', 'M', 'L', 'XL', 'XXL']),\n",
       " 10005: ('Helmet', 87.99, 'safety', ['Child', 'Adult']),\n",
       " 10006: ('Snow Pants', 70.39, 'clothing', ['XS', 'S', 'M', 'L', 'XL', 'XXL']),\n",
       " 10007: ('Coat', 105.59, 'clothing', ['S', 'M', 'L']),\n",
       " 10008: ('Ski Poles', 87.99, 'hardware', ['S', 'M', 'L']),\n",
       " 10009: ('Ski Boots', 175.99, 'hardware', [5, 6, 7, 8, 9, 10, 11])}"
      ]
     },
     "execution_count": 70,
     "metadata": {},
     "output_type": "execute_result"
    }
   ],
   "source": [
    "euro_items = dict(zip(item_ids, zip(item_names, euro_prices, item_category, sizes)))\n",
    "euro_items"
   ]
  },
  {
   "cell_type": "code",
   "execution_count": 71,
   "id": "48f15bd0",
   "metadata": {},
   "outputs": [
    {
     "name": "stdout",
     "output_type": "stream",
     "text": [
      "{'safety', 'clothing', 'beverage', 'hardware'}\n"
     ]
    }
   ],
   "source": [
    "categories = []\n",
    "\n",
    "for value in euro_items.values():\n",
    "    categories.append(value[2])\n",
    "\n",
    "unique_categories = set(categories)\n",
    "\n",
    "print(unique_categories)"
   ]
  },
  {
   "cell_type": "code",
   "execution_count": 72,
   "id": "b941cf56",
   "metadata": {},
   "outputs": [
    {
     "data": {
      "text/plain": [
       "4"
      ]
     },
     "execution_count": 72,
     "metadata": {},
     "output_type": "execute_result"
    }
   ],
   "source": [
    "# number of unique categories\n",
    "len(unique_categories)"
   ]
  },
  {
   "cell_type": "code",
   "execution_count": 73,
   "id": "b95c9024",
   "metadata": {},
   "outputs": [
    {
     "data": {
      "text/plain": [
       "False"
      ]
     },
     "execution_count": 73,
     "metadata": {},
     "output_type": "execute_result"
    }
   ],
   "source": [
    "# check if 'outdoor' is in our categories\n",
    "'outdoor' in unique_categories"
   ]
  },
  {
   "cell_type": "markdown",
   "id": "ae48c5e1",
   "metadata": {},
   "source": [
    "## SET OPERATIONS\n",
    "\n",
    "Python has useful operations that can be performed between sets\n",
    "\n",
    "* union - Return all unique value in both set \n",
    "* intersection - Returns values present in both sets\n",
    "* differencee - Returns values present in set 1, but not set 2\n",
    "* symmetric difference - Returns values not shared between sets (opposite of intersection)"
   ]
  },
  {
   "cell_type": "code",
   "execution_count": 76,
   "id": "80060c46",
   "metadata": {},
   "outputs": [
    {
     "data": {
      "text/plain": [
       "{'coffee', 'goggles', 'helmet', 'skis', 'sled', 'snowboard'}"
      ]
     },
     "execution_count": 76,
     "metadata": {},
     "output_type": "execute_result"
    }
   ],
   "source": [
    "# UNION \n",
    "friday_item = {'snowboard', 'snowboard', 'skis', 'snowboard', 'sled'}\n",
    "saturday_item = {'goggles', 'helmet', 'snowboard', 'skis', 'goggles'}\n",
    "friday_item.union(saturday_item)\n",
    "\n",
    "\n",
    "sunday_item = {'coffee'}\n",
    "friday_item.union(saturday_item).union(sunday_item)"
   ]
  },
  {
   "cell_type": "code",
   "execution_count": 80,
   "id": "ddd903ff",
   "metadata": {},
   "outputs": [
    {
     "data": {
      "text/plain": [
       "set()"
      ]
     },
     "execution_count": 80,
     "metadata": {},
     "output_type": "execute_result"
    }
   ],
   "source": [
    "# INTERSECTION\n",
    "friday_item = {'snowboard', 'snowboard', 'skis', 'snowboard', 'sled'}\n",
    "saturday_item = {'goggles', 'helmet', 'snowboard', 'skis', 'goggles'}\n",
    "friday_item.intersection(saturday_item) # {'skis', 'snowboard'}\n",
    "\n",
    "sunday_item = {'coffee'}\n",
    "friday_item.intersection(saturday_item).intersection(sunday_item)"
   ]
  },
  {
   "cell_type": "code",
   "execution_count": 82,
   "id": "df40aa1a",
   "metadata": {},
   "outputs": [
    {
     "data": {
      "text/plain": [
       "{'goggles', 'helmet'}"
      ]
     },
     "execution_count": 82,
     "metadata": {},
     "output_type": "execute_result"
    }
   ],
   "source": [
    "# DIFFERENCE\n",
    "friday_item = {'snowboard', 'snowboard', 'skis', 'snowboard', 'sled'}\n",
    "saturday_item = {'goggles', 'helmet', 'snowboard', 'skis', 'goggles'}\n",
    "friday_item.difference(saturday_item) # {'sled'}\n",
    "\n",
    "saturday_item - friday_item # If you reverse the order, the output changes "
   ]
  },
  {
   "cell_type": "code",
   "execution_count": 83,
   "id": "b4a0ce00",
   "metadata": {},
   "outputs": [
    {
     "data": {
      "text/plain": [
       "{'goggles', 'helmet', 'sled'}"
      ]
     },
     "execution_count": 83,
     "metadata": {},
     "output_type": "execute_result"
    }
   ],
   "source": [
    "# SYMMETRICAL DIFFERENCE\n",
    "friday_item = {'snowboard', 'snowboard', 'skis', 'snowboard', 'sled'}\n",
    "saturday_item = {'goggles', 'helmet', 'snowboard', 'skis', 'goggles'}\n",
    "friday_item.symmetric_difference(saturday_item) "
   ]
  },
  {
   "cell_type": "markdown",
   "id": "9106297f",
   "metadata": {},
   "source": [
    "### ASSIGNMENT: SET OPERATIONS\n",
    "\n",
    "Hey,\n",
    "* There are three lists with the customers who made a purchase on Friday, Saturday, and Sunday.\n",
    "* Can you get me the set of unique customers who made purchases on Saturday or Sunday?\n",
    "* Then return the customers that made purchases on Friday AND during the weekend; we want to target them with additional promotions."
   ]
  },
  {
   "cell_type": "code",
   "execution_count": 84,
   "id": "3747bd14",
   "metadata": {},
   "outputs": [],
   "source": [
    "# Customer Lists\n",
    "friday_customers = [\n",
    "    'C00004', 'C00007', 'C00015', 'C00016', 'C00020',\n",
    "    'C00010', 'C00006', 'C00001', 'C00003', 'C00014',\n",
    "    'C00001', 'C00001', 'C00005', 'C00008', 'C00013']\n",
    "\n",
    "saturday_customers = [\n",
    "    'C00004', 'C00017', 'C00019', 'C00002', 'C00008',\n",
    "    'C00021', 'C00022']\n",
    "\n",
    "sunday_customers = ['C00006', 'C00018', 'C00018', 'C00010', 'C00016']"
   ]
  },
  {
   "cell_type": "code",
   "execution_count": 85,
   "id": "22c3f816",
   "metadata": {},
   "outputs": [
    {
     "data": {
      "text/plain": [
       "{'C00002',\n",
       " 'C00004',\n",
       " 'C00006',\n",
       " 'C00008',\n",
       " 'C00010',\n",
       " 'C00016',\n",
       " 'C00017',\n",
       " 'C00018',\n",
       " 'C00019',\n",
       " 'C00021',\n",
       " 'C00022'}"
      ]
     },
     "execution_count": 85,
     "metadata": {},
     "output_type": "execute_result"
    }
   ],
   "source": [
    "# Collect Unique Weekend Customers - Union between Saturday and Sunday\n",
    "weekend_set = set(saturday_customers).union(set(sunday_customers))\n",
    "weekend_set"
   ]
  },
  {
   "cell_type": "code",
   "execution_count": 86,
   "id": "5c9d2a1a",
   "metadata": {},
   "outputs": [
    {
     "data": {
      "text/plain": [
       "{'C00004', 'C00006', 'C00008', 'C00010', 'C00016'}"
      ]
     },
     "execution_count": 86,
     "metadata": {},
     "output_type": "execute_result"
    }
   ],
   "source": [
    "# Collect Customers who purchased on Friday AND on weekend\n",
    "# Intersection between Friday and Weekend Sets\n",
    "set(friday_customers).intersection(weekend_set)"
   ]
  }
 ],
 "metadata": {
  "kernelspec": {
   "display_name": "Python 3 (ipykernel)",
   "language": "python",
   "name": "python3"
  },
  "language_info": {
   "codemirror_mode": {
    "name": "ipython",
    "version": 3
   },
   "file_extension": ".py",
   "mimetype": "text/x-python",
   "name": "python",
   "nbconvert_exporter": "python",
   "pygments_lexer": "ipython3",
   "version": "3.9.12"
  }
 },
 "nbformat": 4,
 "nbformat_minor": 5
}
