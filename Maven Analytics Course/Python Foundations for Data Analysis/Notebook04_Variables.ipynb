{
 "cells": [
  {
   "cell_type": "markdown",
   "id": "19eecc74",
   "metadata": {},
   "source": [
    "# Variables\n",
    "## Variable Assigments \n",
    "\n",
    "Variables are containers used to label and store values for future reference. They can store any Python data type (and even calls to functions. Ex: `variables_name = value`"
   ]
  },
  {
   "cell_type": "code",
   "execution_count": 1,
   "id": "061425ad",
   "metadata": {},
   "outputs": [
    {
     "name": "stdout",
     "output_type": "stream",
     "text": [
      "5\n"
     ]
    }
   ],
   "source": [
    "price = 5\n",
    "print(price)"
   ]
  },
  {
   "cell_type": "code",
   "execution_count": 2,
   "id": "8bc011ec",
   "metadata": {},
   "outputs": [
    {
     "name": "stdout",
     "output_type": "stream",
     "text": [
      "6\n"
     ]
    }
   ],
   "source": [
    "print(price + 1)"
   ]
  },
  {
   "cell_type": "code",
   "execution_count": 3,
   "id": "8cb75ffd",
   "metadata": {},
   "outputs": [
    {
     "name": "stdout",
     "output_type": "stream",
     "text": [
      "[2.5, 4.99, 10, None, 'PROMO']\n"
     ]
    }
   ],
   "source": [
    "price_list = [2.50, 4.99, 10, None,'PROMO']\n",
    "print_price_list =print(price_list)\n",
    "print_price_list "
   ]
  },
  {
   "cell_type": "code",
   "execution_count": 4,
   "id": "cdc4ab1f",
   "metadata": {},
   "outputs": [
    {
     "name": "stdout",
     "output_type": "stream",
     "text": [
      "7\n"
     ]
    }
   ],
   "source": [
    "tax = 2\n",
    "print(price + tax)"
   ]
  },
  {
   "cell_type": "code",
   "execution_count": 5,
   "id": "c0dc3ffe",
   "metadata": {},
   "outputs": [
    {
     "data": {
      "text/plain": [
       "list"
      ]
     },
     "execution_count": 5,
     "metadata": {},
     "output_type": "execute_result"
    }
   ],
   "source": [
    "price_list = [2.50, 4.99, 10, None,'PROMO']\n",
    "print_price_type =type(price_list)\n",
    "print_price_type"
   ]
  },
  {
   "cell_type": "markdown",
   "id": "7fca6f89",
   "metadata": {},
   "source": [
    "### Assignment\n",
    "Hi there, welcome to the Maven Ski Company!\n",
    "\n",
    "For your first task, I’d like you to change the code that adds a dollar in tax to our price before printing.\n",
    "The tax will no longer be fixed at one dollar, so:\n",
    "\n",
    "* Create a ‘tax’ variable and assign it a value of 2\n",
    "* Create a ‘total’ variable equal to ‘price’ + ‘tax’\n",
    "* Print ‘total’\n",
    "Thanks in advance!"
   ]
  },
  {
   "cell_type": "code",
   "execution_count": 6,
   "id": "8b4c0485",
   "metadata": {},
   "outputs": [
    {
     "data": {
      "text/plain": [
       "8"
      ]
     },
     "execution_count": 6,
     "metadata": {},
     "output_type": "execute_result"
    }
   ],
   "source": [
    "price = 5\n",
    "tax = 3\n",
    "total =price + tax\n",
    "total"
   ]
  },
  {
   "cell_type": "markdown",
   "id": "49bf4cad",
   "metadata": {},
   "source": [
    "## Overwrite a variable\n",
    "You can overwrite a variable by assigning a new value to it"
   ]
  },
  {
   "cell_type": "code",
   "execution_count": 7,
   "id": "a7a59b48",
   "metadata": {},
   "outputs": [],
   "source": [
    "price = 5\n",
    "price = 6\n",
    "price = 7"
   ]
  },
  {
   "cell_type": "code",
   "execution_count": 9,
   "id": "ee00ea36",
   "metadata": {
    "scrolled": true
   },
   "outputs": [
    {
     "name": "stdout",
     "output_type": "stream",
     "text": [
      "6\n"
     ]
    }
   ],
   "source": [
    "# The del keyword will permanently remove variables and other objects\n",
    "price = 5\n",
    "del price \n",
    "price = 6\n",
    "print(price) # It not exist "
   ]
  },
  {
   "cell_type": "markdown",
   "id": "3301dfc8",
   "metadata": {},
   "source": [
    "## Naming Conventions \n",
    "\n",
    "Variable names can:\n",
    "* Contain letters (case sensitive!) price_list_2019\n",
    "* Contain numbers pl2019\n",
    "* Contain underscores PRICE_LIST_2019\n",
    "* Begin with a letter or underscore _price_list_2019"
   ]
  },
  {
   "cell_type": "markdown",
   "id": "ef832436",
   "metadata": {},
   "source": [
    "## Tracking Variables \n",
    "Use “%who” and “%whos” to track the variables you’ve created"
   ]
  },
  {
   "cell_type": "code",
   "execution_count": 10,
   "id": "56108096",
   "metadata": {},
   "outputs": [],
   "source": [
    "price = 10\n",
    "product = 'Super Snowboard'\n",
    "Date = '10-Jan-2021'\n",
    "dimensions = [160, 25, 2]"
   ]
  },
  {
   "cell_type": "code",
   "execution_count": 11,
   "id": "16f3e18d",
   "metadata": {
    "scrolled": true
   },
   "outputs": [
    {
     "name": "stdout",
     "output_type": "stream",
     "text": [
      "Date\t dimensions\t price\t price_list\t print_price_list\t print_price_type\t product\t tax\t total\t \n",
      "\n"
     ]
    }
   ],
   "source": [
    "%who # %who returns variable names"
   ]
  },
  {
   "cell_type": "code",
   "execution_count": null,
   "id": "164f44d8",
   "metadata": {},
   "outputs": [],
   "source": [
    "%whos # %whos returns variable names, types, and information on the data contained"
   ]
  },
  {
   "cell_type": "markdown",
   "id": "b7f03639",
   "metadata": {},
   "source": [
    "### Assignment\n",
    "Hi there, thanks for you help on the tax code!\n",
    "\n",
    "The file attached contains the attempts of our previous intern to create variables representing our 2018, 2019, and 2020 price lists, among others.\n",
    "\n",
    "Please make sure these variables are given names in the format ‘price_list_year’ by filling in the correct year and cleaning up any unnecessary variable names.\n",
    "\n",
    "Thanks in advance!"
   ]
  },
  {
   "cell_type": "code",
   "execution_count": 12,
   "id": "c64eb58c",
   "metadata": {},
   "outputs": [],
   "source": [
    "# Answer ( solo era arreglar los nombre de las varaibles y las variables )\n",
    "price_list_2018 = [4.99, 8.99, 17.99, 22.99, 94.99]\n",
    "price_list_2019 = [5.99, 9.99, 19.99, 24.99, 99.99]\n",
    "price_list_2020 = [6.49, 10.49, 19.99, 26.99, 104.99]"
   ]
  }
 ],
 "metadata": {
  "kernelspec": {
   "display_name": "Python 3 (ipykernel)",
   "language": "python",
   "name": "python3"
  },
  "language_info": {
   "codemirror_mode": {
    "name": "ipython",
    "version": 3
   },
   "file_extension": ".py",
   "mimetype": "text/x-python",
   "name": "python",
   "nbconvert_exporter": "python",
   "pygments_lexer": "ipython3",
   "version": "3.9.12"
  }
 },
 "nbformat": 4,
 "nbformat_minor": 5
}
