{
 "cells": [
  {
   "cell_type": "markdown",
   "id": "26225ae3",
   "metadata": {},
   "source": [
    "# Data types in Python\n",
    "\n",
    "**We have two types: Singles values o multiple values**\n",
    "\n",
    "For single values we have:\n",
    "* Numeric\n",
    "* Text\n",
    "* Boolean\n",
    "* None\n",
    "\n",
    "For Multiple values we have:\n",
    "* Sequence  represents sequences of values usually text or numeric \n",
    "* Mapping   maps key to values for efficient information retrieval\n",
    "* Set       represents a collection of unique, non-duplicates values\n",
    "\n"
   ]
  },
  {
   "cell_type": "code",
   "execution_count": 3,
   "id": "c31bd88b",
   "metadata": {},
   "outputs": [
    {
     "data": {
      "text/plain": [
       "int"
      ]
     },
     "execution_count": 3,
     "metadata": {},
     "output_type": "execute_result"
    }
   ],
   "source": [
    "type(1) # the type function will tell us what kind of data is "
   ]
  },
  {
   "cell_type": "code",
   "execution_count": 5,
   "id": "e5bb3958",
   "metadata": {},
   "outputs": [
    {
     "data": {
      "text/plain": [
       "float"
      ]
     },
     "execution_count": 5,
     "metadata": {},
     "output_type": "execute_result"
    }
   ],
   "source": [
    "type(3.14)"
   ]
  },
  {
   "cell_type": "code",
   "execution_count": 6,
   "id": "67716d99",
   "metadata": {},
   "outputs": [
    {
     "data": {
      "text/plain": [
       "list"
      ]
     },
     "execution_count": 6,
     "metadata": {},
     "output_type": "execute_result"
    }
   ],
   "source": [
    "data_type = type([2.34,'skis',None])\n",
    "data_type"
   ]
  },
  {
   "cell_type": "code",
   "execution_count": 8,
   "id": "5bcc44d6",
   "metadata": {
    "scrolled": true
   },
   "outputs": [
    {
     "data": {
      "text/plain": [
       "123"
      ]
     },
     "execution_count": 8,
     "metadata": {},
     "output_type": "execute_result"
    }
   ],
   "source": [
    "int('123') # Converting str into a integer "
   ]
  },
  {
   "cell_type": "code",
   "execution_count": 9,
   "id": "18d41846",
   "metadata": {},
   "outputs": [
    {
     "data": {
      "text/plain": [
       "3"
      ]
     },
     "execution_count": 9,
     "metadata": {},
     "output_type": "execute_result"
    }
   ],
   "source": [
    "int(3.15) # Converting float into a integer"
   ]
  },
  {
   "cell_type": "code",
   "execution_count": 10,
   "id": "5cd14a93",
   "metadata": {
    "scrolled": true
   },
   "outputs": [
    {
     "data": {
      "text/plain": [
       "(1, 2, 3)"
      ]
     },
     "execution_count": 10,
     "metadata": {},
     "output_type": "execute_result"
    }
   ],
   "source": [
    "tuple([1,2,3])"
   ]
  },
  {
   "cell_type": "markdown",
   "id": "6e841804",
   "metadata": {},
   "source": [
    "**Iterables** are data types that can be iterated, or looped through, allowing you to move from one value to the next. These data types are considered iterable: Sequence, Mapping, Set and Text\n",
    "\n",
    "A data type is **mutable** if it can be modified after its creation.\n",
    "\n",
    "* Mutable data type are flexible- can add, remove, change values in the object. (List, Dictionaries, Set)\n",
    "* Immutable data type areTo modify a value must delete and recreate the entire object. (Int, Float, str, Boolean, Tuple and Frozenset)\n",
    "\n",
    "*Mutable data types can be modified after their creation, while immutable data types cannot be changed without being overwritten*"
   ]
  },
  {
   "cell_type": "code",
   "execution_count": null,
   "id": "74a99583",
   "metadata": {},
   "outputs": [],
   "source": []
  }
 ],
 "metadata": {
  "kernelspec": {
   "display_name": "Python 3 (ipykernel)",
   "language": "python",
   "name": "python3"
  },
  "language_info": {
   "codemirror_mode": {
    "name": "ipython",
    "version": 3
   },
   "file_extension": ".py",
   "mimetype": "text/x-python",
   "name": "python",
   "nbconvert_exporter": "python",
   "pygments_lexer": "ipython3",
   "version": "3.9.12"
  }
 },
 "nbformat": 4,
 "nbformat_minor": 5
}
